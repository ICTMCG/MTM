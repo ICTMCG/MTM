{
 "cells": [
  {
   "cell_type": "markdown",
   "metadata": {},
   "source": [
    "# Weibo"
   ]
  },
  {
   "cell_type": "markdown",
   "metadata": {},
   "source": [
    "## Loading"
   ]
  },
  {
   "cell_type": "code",
   "execution_count": 1,
   "metadata": {
    "ExecuteTime": {
     "end_time": "2021-06-29T03:25:21.197030Z",
     "start_time": "2021-06-29T03:25:20.080930Z"
    }
   },
   "outputs": [],
   "source": [
    "import pickle\n",
    "import json\n",
    "import random\n",
    "import pandas as pd\n",
    "from tqdm import tqdm\n",
    "import matplotlib.pyplot as plt\n",
    "import seaborn as sns\n",
    "import torch\n",
    "\n",
    "sns.set()\n",
    "%matplotlib inline"
   ]
  },
  {
   "cell_type": "code",
   "execution_count": 2,
   "metadata": {
    "ExecuteTime": {
     "end_time": "2021-06-29T03:25:21.201799Z",
     "start_time": "2021-06-29T03:25:21.199022Z"
    }
   },
   "outputs": [],
   "source": [
    "def print_in_color(s, cint=31, end='\\n'):\n",
    "    print('\\x1b[{}m{}\\x1b[0m'.format(cint, s), end=end)"
   ]
  },
  {
   "cell_type": "code",
   "execution_count": 3,
   "metadata": {
    "ExecuteTime": {
     "end_time": "2021-06-29T03:25:22.531161Z",
     "start_time": "2021-06-29T03:25:21.203540Z"
    }
   },
   "outputs": [
    {
     "data": {
      "text/plain": [
       "(11934, 27505)"
      ]
     },
     "execution_count": 3,
     "metadata": {},
     "output_type": "execute_result"
    }
   ],
   "source": [
    "with open('../../dataset/Weibo/raw/FN_11934_filtered.json', 'r') as f:\n",
    "    FN = json.load(f)\n",
    "\n",
    "with open('../../dataset/Weibo/raw/DN_27505_filtered.json', 'r') as f:\n",
    "    DN = json.load(f)\n",
    "\n",
    "fnOid2item = {fn['_id']: fn for fn in FN}\n",
    "dnOid2item = {dn['_id']: dn for dn in DN}\n",
    "\n",
    "fnIdx2item = {i: fn for i, fn in enumerate(FN)}\n",
    "dnIdx2item = {i: dn for i, dn in enumerate(DN)}\n",
    "\n",
    "fnOid2idx = {fn['_id']: i for i, fn in enumerate(FN)}\n",
    "dnOid2idx = {dn['_id']: i for i, dn in enumerate(DN)}\n",
    "\n",
    "len(FN), len(DN)"
   ]
  },
  {
   "cell_type": "code",
   "execution_count": 4,
   "metadata": {
    "ExecuteTime": {
     "end_time": "2021-06-29T03:25:23.879640Z",
     "start_time": "2021-06-29T03:25:22.533524Z"
    }
   },
   "outputs": [
    {
     "data": {
      "text/plain": [
       "(11934, 27505)"
      ]
     },
     "execution_count": 4,
     "metadata": {},
     "output_type": "execute_result"
    }
   ],
   "source": [
    "fn_embeddings = torch.load(\n",
    "    '../ROT/data/Weibo/FN_bert-base-chinese_embeddings_static.pt')\n",
    "dn_embeddings = torch.load(\n",
    "    '../ROT/data/Weibo/DN_bert-base-chinese_embeddings_static.pt')\n",
    "\n",
    "len(fn_embeddings), len(dn_embeddings)"
   ]
  },
  {
   "cell_type": "code",
   "execution_count": 5,
   "metadata": {
    "ExecuteTime": {
     "end_time": "2021-06-29T03:25:23.885227Z",
     "start_time": "2021-06-29T03:25:23.880776Z"
    }
   },
   "outputs": [],
   "source": [
    "def pytorch_euclidean_distance(a, b):\n",
    "    return torch.dist(a, b)\n",
    "\n",
    "\n",
    "def get_sim_scores(fn_emb, dn_emb):\n",
    "    score_dict = dict()\n",
    "\n",
    "    for qidx, fn in enumerate(tqdm(FN)):\n",
    "        dn_oids = fn['debunking_ids']\n",
    "\n",
    "        for did in dn_oids:\n",
    "            dn = dnOid2item[did]\n",
    "            didx = dnOid2idx[did]\n",
    "\n",
    "            query = fn_emb[qidx]\n",
    "            sentences = dn_emb[didx]\n",
    "\n",
    "            items = [pytorch_euclidean_distance(\n",
    "                query, sent).item() for sent in sentences]\n",
    "\n",
    "#             # Scale\n",
    "#             m, M = min(items), max(items)\n",
    "#             items = [1 - (x - m) / (M - m + 1e-8) for x in items]\n",
    "\n",
    "            if qidx not in score_dict.keys():\n",
    "                score_dict[qidx] = {didx: items}\n",
    "            else:\n",
    "                score_dict[qidx][didx] = items\n",
    "\n",
    "    return score_dict"
   ]
  },
  {
   "cell_type": "code",
   "execution_count": 6,
   "metadata": {
    "ExecuteTime": {
     "end_time": "2021-06-29T03:25:36.091320Z",
     "start_time": "2021-06-29T03:25:23.886597Z"
    }
   },
   "outputs": [
    {
     "name": "stderr",
     "output_type": "stream",
     "text": [
      "100%|██████████| 11934/11934 [00:12<00:00, 978.34it/s] \n"
     ]
    }
   ],
   "source": [
    "distances_dict = get_sim_scores(fn_embeddings, dn_embeddings)"
   ]
  },
  {
   "cell_type": "code",
   "execution_count": 7,
   "metadata": {
    "ExecuteTime": {
     "end_time": "2021-06-29T03:25:36.097760Z",
     "start_time": "2021-06-29T03:25:36.093750Z"
    }
   },
   "outputs": [
    {
     "data": {
      "text/plain": [
       "{19: [0.240827739238739,\n",
       "  0.16636838018894196,\n",
       "  0.6203256845474243,\n",
       "  0.22376954555511475,\n",
       "  0.2720167636871338,\n",
       "  0.15347903966903687,\n",
       "  0.4483548402786255,\n",
       "  0.3415389955043793,\n",
       "  0.1948276162147522,\n",
       "  0.20255406200885773,\n",
       "  0.2571829855442047,\n",
       "  0.46945202350616455,\n",
       "  0.3041685223579407,\n",
       "  0.2650800049304962,\n",
       "  0.23779737949371338,\n",
       "  0.25236794352531433,\n",
       "  0.23080341517925262,\n",
       "  0.2179158478975296,\n",
       "  0.2818111181259155,\n",
       "  0.3188406825065613,\n",
       "  0.12962418794631958,\n",
       "  0.22912277281284332,\n",
       "  0.36622461676597595,\n",
       "  0.23502960801124573,\n",
       "  0.3152892589569092]}"
      ]
     },
     "execution_count": 7,
     "metadata": {},
     "output_type": "execute_result"
    }
   ],
   "source": [
    "distances_dict[0]"
   ]
  },
  {
   "cell_type": "markdown",
   "metadata": {},
   "source": [
    "## Select the quantiles"
   ]
  },
  {
   "cell_type": "code",
   "execution_count": 8,
   "metadata": {
    "ExecuteTime": {
     "end_time": "2021-06-29T03:25:36.134099Z",
     "start_time": "2021-06-29T03:25:36.099685Z"
    }
   },
   "outputs": [
    {
     "data": {
      "text/plain": [
       "1260751"
      ]
     },
     "execution_count": 8,
     "metadata": {},
     "output_type": "execute_result"
    }
   ],
   "source": [
    "total_dist = [z for x in distances_dict.values() for y in x.values()\n",
    "              for z in y]\n",
    "len(total_dist)"
   ]
  },
  {
   "cell_type": "code",
   "execution_count": 9,
   "metadata": {
    "ExecuteTime": {
     "end_time": "2021-06-29T03:25:36.139281Z",
     "start_time": "2021-06-29T03:25:36.135584Z"
    }
   },
   "outputs": [
    {
     "data": {
      "text/plain": [
       "[0.240827739238739,\n",
       " 0.16636838018894196,\n",
       " 0.6203256845474243,\n",
       " 0.22376954555511475,\n",
       " 0.2720167636871338,\n",
       " 0.15347903966903687,\n",
       " 0.4483548402786255,\n",
       " 0.3415389955043793,\n",
       " 0.1948276162147522,\n",
       " 0.20255406200885773,\n",
       " 0.2571829855442047,\n",
       " 0.46945202350616455,\n",
       " 0.3041685223579407,\n",
       " 0.2650800049304962,\n",
       " 0.23779737949371338,\n",
       " 0.25236794352531433,\n",
       " 0.23080341517925262,\n",
       " 0.2179158478975296,\n",
       " 0.2818111181259155,\n",
       " 0.3188406825065613]"
      ]
     },
     "execution_count": 9,
     "metadata": {},
     "output_type": "execute_result"
    }
   ],
   "source": [
    "total_dist[:20]"
   ]
  },
  {
   "cell_type": "code",
   "execution_count": 10,
   "metadata": {
    "ExecuteTime": {
     "end_time": "2021-06-29T03:25:36.251247Z",
     "start_time": "2021-06-29T03:25:36.140684Z"
    }
   },
   "outputs": [
    {
     "data": {
      "text/plain": [
       "1260751"
      ]
     },
     "execution_count": 10,
     "metadata": {},
     "output_type": "execute_result"
    }
   ],
   "source": [
    "df = pd.DataFrame({'dist':total_dist})\n",
    "len(df)"
   ]
  },
  {
   "cell_type": "code",
   "execution_count": 11,
   "metadata": {
    "ExecuteTime": {
     "end_time": "2021-06-29T03:25:36.339173Z",
     "start_time": "2021-06-29T03:25:36.252724Z"
    }
   },
   "outputs": [
    {
     "data": {
      "text/html": [
       "<div>\n",
       "<style scoped>\n",
       "    .dataframe tbody tr th:only-of-type {\n",
       "        vertical-align: middle;\n",
       "    }\n",
       "\n",
       "    .dataframe tbody tr th {\n",
       "        vertical-align: top;\n",
       "    }\n",
       "\n",
       "    .dataframe thead th {\n",
       "        text-align: right;\n",
       "    }\n",
       "</style>\n",
       "<table border=\"1\" class=\"dataframe\">\n",
       "  <thead>\n",
       "    <tr style=\"text-align: right;\">\n",
       "      <th></th>\n",
       "      <th>dist</th>\n",
       "    </tr>\n",
       "  </thead>\n",
       "  <tbody>\n",
       "    <tr>\n",
       "      <th>count</th>\n",
       "      <td>1.260751e+06</td>\n",
       "    </tr>\n",
       "    <tr>\n",
       "      <th>mean</th>\n",
       "      <td>4.089866e-01</td>\n",
       "    </tr>\n",
       "    <tr>\n",
       "      <th>std</th>\n",
       "      <td>2.077371e-01</td>\n",
       "    </tr>\n",
       "    <tr>\n",
       "      <th>min</th>\n",
       "      <td>0.000000e+00</td>\n",
       "    </tr>\n",
       "    <tr>\n",
       "      <th>25%</th>\n",
       "      <td>2.965157e-01</td>\n",
       "    </tr>\n",
       "    <tr>\n",
       "      <th>50%</th>\n",
       "      <td>3.565959e-01</td>\n",
       "    </tr>\n",
       "    <tr>\n",
       "      <th>75%</th>\n",
       "      <td>4.399680e-01</td>\n",
       "    </tr>\n",
       "    <tr>\n",
       "      <th>max</th>\n",
       "      <td>2.020064e+00</td>\n",
       "    </tr>\n",
       "  </tbody>\n",
       "</table>\n",
       "</div>"
      ],
      "text/plain": [
       "               dist\n",
       "count  1.260751e+06\n",
       "mean   4.089866e-01\n",
       "std    2.077371e-01\n",
       "min    0.000000e+00\n",
       "25%    2.965157e-01\n",
       "50%    3.565959e-01\n",
       "75%    4.399680e-01\n",
       "max    2.020064e+00"
      ]
     },
     "execution_count": 11,
     "metadata": {},
     "output_type": "execute_result"
    }
   ],
   "source": [
    "df.describe()"
   ]
  },
  {
   "cell_type": "code",
   "execution_count": 12,
   "metadata": {
    "ExecuteTime": {
     "end_time": "2021-06-29T03:25:39.494764Z",
     "start_time": "2021-06-29T03:25:36.340533Z"
    }
   },
   "outputs": [
    {
     "data": {
      "text/plain": [
       "<matplotlib.axes._subplots.AxesSubplot at 0x7f7fd270e7b8>"
      ]
     },
     "execution_count": 12,
     "metadata": {},
     "output_type": "execute_result"
    },
    {
     "data": {
      "image/png": "[encoded data removed]",
      "text/plain": [
       "<Figure size 432x288 with 1 Axes>"
      ]
     },
     "metadata": {
      "needs_background": "light"
     },
     "output_type": "display_data"
    }
   ],
   "source": [
    "sns.violinplot(data=df, x='dist')"
   ]
  },
  {
   "cell_type": "code",
   "execution_count": 13,
   "metadata": {
    "ExecuteTime": {
     "end_time": "2021-06-29T03:25:39.503587Z",
     "start_time": "2021-06-29T03:25:39.496204Z"
    }
   },
   "outputs": [],
   "source": [
    "def analysis_ts(ts_1, ts_2):\n",
    "    num = len(df[(df['dist'] > ts_1) & (df['dist'] < ts_2)])\n",
    "    print('{:.3f} < chosen_dist < {:.3f}, sample = {:.3%}'.format(\n",
    "        ts_1, ts_2, num/len(df)))\n",
    "    print('*'*20, '\\n')\n",
    "\n",
    "    TOP = 5\n",
    "    qidx = random.randint(0, len(FN) - 1)\n",
    "    fn = FN[qidx]\n",
    "\n",
    "    print('[Fake News]\\n{}'.format(fn['content_all']))\n",
    "\n",
    "    for did in fn['debunking_ids']:\n",
    "        didx = dnOid2idx[did]\n",
    "        dn = DN[didx]\n",
    "        \n",
    "        items = distances_dict[qidx][didx]\n",
    "        dist_small = sorted(items)[:TOP]\n",
    "\n",
    "        print('\\n---------------------------------------------')\n",
    "        print('qidx = {}, didx = {}\\n'.format(qidx, didx))\n",
    "\n",
    "        print('[Debunking News]')\n",
    "        for j, sent in enumerate(dn['content_all']):\n",
    "            print('[Sent-{}]['.format(j), end='')\n",
    "\n",
    "            print_func = print_in_color if items[j] in dist_small else print\n",
    "            print_func('dist: {:.3f}'.format(items[j]), end='')\n",
    "\n",
    "            print(']\\t', end='')\n",
    "\n",
    "            if items[j] > ts_1 and items[j] < ts_2:\n",
    "                print_in_color(sent, cint=32)\n",
    "            else:\n",
    "                print(sent)"
   ]
  },
  {
   "cell_type": "code",
   "execution_count": 14,
   "metadata": {
    "ExecuteTime": {
     "end_time": "2021-06-29T03:25:39.649595Z",
     "start_time": "2021-06-29T03:25:39.505042Z"
    }
   },
   "outputs": [
    {
     "name": "stdout",
     "output_type": "stream",
     "text": [
      "0.297 < chosen_dist < 0.357, sample = 25.000%\n"
     ]
    }
   ],
   "source": [
    "ts_1 = df.describe()['dist']['25%']\n",
    "ts_2 = df.describe()['dist']['50%']\n",
    "\n",
    "num = len(df[(df['dist'] > ts_1) & (df['dist'] < ts_2)])\n",
    "print('{:.3f} < chosen_dist < {:.3f}, sample = {:.3%}'.format(\n",
    "    ts_1, ts_2, num/len(df)))"
   ]
  },
  {
   "cell_type": "code",
   "execution_count": 15,
   "metadata": {
    "ExecuteTime": {
     "end_time": "2021-06-29T03:25:39.667424Z",
     "start_time": "2021-06-29T03:25:39.651004Z"
    }
   },
   "outputs": [
    {
     "name": "stdout",
     "output_type": "stream",
     "text": [
      "0.297 < chosen_dist < 0.357, sample = 25.000%\n",
      "******************** \n",
      "\n",
      "[Fake News]\n",
      "#厦门BRT爆炸后遗症续#成都今天一辆公交车被人喊了句冒烟了，居然有十几个只带小锤的人掏出锤把玻璃仗的稀烂，全部跳车跑了。\n",
      "\n",
      "---------------------------------------------\n",
      "qidx = 1724, didx = 12355\n",
      "\n",
      "[Debunking News]\n",
      "[Sent-0][\u001b[31mdist: 0.208\u001b[0m]\t#厦门BRT爆炸后遗症续# 今日.据说成都公交车有人喊冒烟了,结果就成了这个样子.你今天带锤子吗?\n",
      "[Sent-1][\u001b[31mdist: 0.505\u001b[0m]\t @阮是俊杰 @嘉庚门徒 @张抖抖不爱斗 @厦门琦琦 @红薯马甲 ?\n",
      "[Sent-2][\u001b[31mdist: 1.424\u001b[0m]\t??\n",
      "[Sent-3][\u001b[31mdist: 1.424\u001b[0m]\t?\n",
      "[Sent-4][\u001b[31mdist: 0.173\u001b[0m]\t经查，此微博称“成都今天一辆八路车被人喊了句冒烟了，居然有十多个自带小锤的人掏出锤锤把玻璃仗的稀烂”，并附上一张图片，但此图实为2008年“成都公交行驶中突然冒烟 市民互助逃生”中的新闻配图，详情：。\n",
      "[Sent-5][\u001b[31mdist: 0.400\u001b[0m]\t被举报人言论属于“图文不符”，构成“发布不实信息”。\n"
     ]
    }
   ],
   "source": [
    "analysis_ts(ts_1, ts_2)"
   ]
  },
  {
   "cell_type": "markdown",
   "metadata": {},
   "source": [
    "## Export clustering data from training set"
   ]
  },
  {
   "cell_type": "code",
   "execution_count": 16,
   "metadata": {
    "ExecuteTime": {
     "end_time": "2021-06-29T03:25:39.672035Z",
     "start_time": "2021-06-29T03:25:39.668761Z"
    }
   },
   "outputs": [
    {
     "data": {
      "text/plain": [
       "(0.29651573300361633, 0.35659587383270264)"
      ]
     },
     "execution_count": 16,
     "metadata": {},
     "output_type": "execute_result"
    }
   ],
   "source": [
    "TS_SMALL = ts_1\n",
    "TS_LARGE = ts_2\n",
    "\n",
    "TS_SMALL, TS_LARGE"
   ]
  },
  {
   "cell_type": "code",
   "execution_count": 17,
   "metadata": {
    "ExecuteTime": {
     "end_time": "2021-06-29T03:25:39.898637Z",
     "start_time": "2021-06-29T03:25:39.673331Z"
    }
   },
   "outputs": [
    {
     "data": {
      "text/plain": [
       "417800"
      ]
     },
     "execution_count": 17,
     "metadata": {},
     "output_type": "execute_result"
    }
   ],
   "source": [
    "train_df = pd.read_csv('../../dataset/Weibo/splits/data/top50.train.line',\n",
    "                       sep='\\t', names=[\"qid\", \"qidx\", \"did\", \"didx\", \"label\"])\n",
    "len(train_df)"
   ]
  },
  {
   "cell_type": "code",
   "execution_count": 18,
   "metadata": {
    "ExecuteTime": {
     "end_time": "2021-06-29T03:25:39.932408Z",
     "start_time": "2021-06-29T03:25:39.899807Z"
    }
   },
   "outputs": [
    {
     "data": {
      "text/html": [
       "<div>\n",
       "<style scoped>\n",
       "    .dataframe tbody tr th:only-of-type {\n",
       "        vertical-align: middle;\n",
       "    }\n",
       "\n",
       "    .dataframe tbody tr th {\n",
       "        vertical-align: top;\n",
       "    }\n",
       "\n",
       "    .dataframe thead th {\n",
       "        text-align: right;\n",
       "    }\n",
       "</style>\n",
       "<table border=\"1\" class=\"dataframe\">\n",
       "  <thead>\n",
       "    <tr style=\"text-align: right;\">\n",
       "      <th></th>\n",
       "      <th>qid</th>\n",
       "      <th>qidx</th>\n",
       "      <th>did</th>\n",
       "      <th>didx</th>\n",
       "      <th>label</th>\n",
       "    </tr>\n",
       "  </thead>\n",
       "  <tbody>\n",
       "    <tr>\n",
       "      <th>0</th>\n",
       "      <td>5f0ed040da7c229f16a51e8f</td>\n",
       "      <td>1</td>\n",
       "      <td>5f1172acb9cce3edf31429b6</td>\n",
       "      <td>10967</td>\n",
       "      <td>0</td>\n",
       "    </tr>\n",
       "    <tr>\n",
       "      <th>27</th>\n",
       "      <td>5f0ed040da7c229f16a51e8f</td>\n",
       "      <td>1</td>\n",
       "      <td>5f2ea72f8d1bbb4d1141a8e8</td>\n",
       "      <td>19032</td>\n",
       "      <td>0</td>\n",
       "    </tr>\n",
       "    <tr>\n",
       "      <th>28</th>\n",
       "      <td>5f0ed040da7c229f16a51e8f</td>\n",
       "      <td>1</td>\n",
       "      <td>5f2ea72f8d1bbb4d1141938b</td>\n",
       "      <td>2749</td>\n",
       "      <td>0</td>\n",
       "    </tr>\n",
       "    <tr>\n",
       "      <th>29</th>\n",
       "      <td>5f0ed040da7c229f16a51e8f</td>\n",
       "      <td>1</td>\n",
       "      <td>5f2ea72f8d1bbb4d1141b118</td>\n",
       "      <td>4664</td>\n",
       "      <td>0</td>\n",
       "    </tr>\n",
       "    <tr>\n",
       "      <th>30</th>\n",
       "      <td>5f0ed040da7c229f16a51e8f</td>\n",
       "      <td>1</td>\n",
       "      <td>5f2ea72f8d1bbb4d114193a3</td>\n",
       "      <td>26744</td>\n",
       "      <td>0</td>\n",
       "    </tr>\n",
       "    <tr>\n",
       "      <th>...</th>\n",
       "      <td>...</td>\n",
       "      <td>...</td>\n",
       "      <td>...</td>\n",
       "      <td>...</td>\n",
       "      <td>...</td>\n",
       "    </tr>\n",
       "    <tr>\n",
       "      <th>417769</th>\n",
       "      <td>5f181aadcd325067fc1bb12e</td>\n",
       "      <td>11933</td>\n",
       "      <td>5f1172acb9cce3edf3142781</td>\n",
       "      <td>11302</td>\n",
       "      <td>0</td>\n",
       "    </tr>\n",
       "    <tr>\n",
       "      <th>417770</th>\n",
       "      <td>5f181aadcd325067fc1bb12e</td>\n",
       "      <td>11933</td>\n",
       "      <td>5f0c71f1efe4e78f5b00a00a</td>\n",
       "      <td>20039</td>\n",
       "      <td>0</td>\n",
       "    </tr>\n",
       "    <tr>\n",
       "      <th>417771</th>\n",
       "      <td>5f181aadcd325067fc1bb12e</td>\n",
       "      <td>11933</td>\n",
       "      <td>5f1172acb9cce3edf3142dc2</td>\n",
       "      <td>9330</td>\n",
       "      <td>0</td>\n",
       "    </tr>\n",
       "    <tr>\n",
       "      <th>417760</th>\n",
       "      <td>5f181aadcd325067fc1bb12e</td>\n",
       "      <td>11933</td>\n",
       "      <td>5f0c71f1efe4e78f5bfff8a7</td>\n",
       "      <td>1848</td>\n",
       "      <td>0</td>\n",
       "    </tr>\n",
       "    <tr>\n",
       "      <th>417799</th>\n",
       "      <td>5f181aadcd325067fc1bb12e</td>\n",
       "      <td>11933</td>\n",
       "      <td>5f1172acb9cce3edf3142b5b</td>\n",
       "      <td>14904</td>\n",
       "      <td>0</td>\n",
       "    </tr>\n",
       "  </tbody>\n",
       "</table>\n",
       "<p>417800 rows × 5 columns</p>\n",
       "</div>"
      ],
      "text/plain": [
       "                             qid   qidx                       did   didx  \\\n",
       "0       5f0ed040da7c229f16a51e8f      1  5f1172acb9cce3edf31429b6  10967   \n",
       "27      5f0ed040da7c229f16a51e8f      1  5f2ea72f8d1bbb4d1141a8e8  19032   \n",
       "28      5f0ed040da7c229f16a51e8f      1  5f2ea72f8d1bbb4d1141938b   2749   \n",
       "29      5f0ed040da7c229f16a51e8f      1  5f2ea72f8d1bbb4d1141b118   4664   \n",
       "30      5f0ed040da7c229f16a51e8f      1  5f2ea72f8d1bbb4d114193a3  26744   \n",
       "...                          ...    ...                       ...    ...   \n",
       "417769  5f181aadcd325067fc1bb12e  11933  5f1172acb9cce3edf3142781  11302   \n",
       "417770  5f181aadcd325067fc1bb12e  11933  5f0c71f1efe4e78f5b00a00a  20039   \n",
       "417771  5f181aadcd325067fc1bb12e  11933  5f1172acb9cce3edf3142dc2   9330   \n",
       "417760  5f181aadcd325067fc1bb12e  11933  5f0c71f1efe4e78f5bfff8a7   1848   \n",
       "417799  5f181aadcd325067fc1bb12e  11933  5f1172acb9cce3edf3142b5b  14904   \n",
       "\n",
       "        label  \n",
       "0           0  \n",
       "27          0  \n",
       "28          0  \n",
       "29          0  \n",
       "30          0  \n",
       "...       ...  \n",
       "417769      0  \n",
       "417770      0  \n",
       "417771      0  \n",
       "417760      0  \n",
       "417799      0  \n",
       "\n",
       "[417800 rows x 5 columns]"
      ]
     },
     "execution_count": 18,
     "metadata": {},
     "output_type": "execute_result"
    }
   ],
   "source": [
    "train_df.sort_values(by='qidx')"
   ]
  },
  {
   "cell_type": "code",
   "execution_count": 19,
   "metadata": {
    "ExecuteTime": {
     "end_time": "2021-06-29T03:25:39.971827Z",
     "start_time": "2021-06-29T03:25:39.933754Z"
    }
   },
   "outputs": [
    {
     "data": {
      "text/plain": [
       "8356"
      ]
     },
     "execution_count": 19,
     "metadata": {},
     "output_type": "execute_result"
    }
   ],
   "source": [
    "train_qidxs = set(train_df['qidx'])\n",
    "len(train_qidxs)"
   ]
  },
  {
   "cell_type": "code",
   "execution_count": 20,
   "metadata": {
    "ExecuteTime": {
     "end_time": "2021-06-29T03:25:40.335135Z",
     "start_time": "2021-06-29T03:25:39.973260Z"
    }
   },
   "outputs": [
    {
     "name": "stderr",
     "output_type": "stream",
     "text": [
      "100%|██████████| 11934/11934 [00:00<00:00, 33635.26it/s]\n"
     ]
    }
   ],
   "source": [
    "init_data = dict()\n",
    "\n",
    "\n",
    "def add_item(qidx, didx, sidx):\n",
    "    if qidx not in init_data.keys():\n",
    "        init_data[qidx] = {didx: [sidx]}\n",
    "    elif didx not in init_data[qidx].keys():\n",
    "        init_data[qidx][didx] = [sidx]\n",
    "    else:\n",
    "        init_data[qidx][didx].append(sidx)\n",
    "\n",
    "\n",
    "for qidx in tqdm(distances_dict.keys()):\n",
    "    if qidx not in train_qidxs:\n",
    "        continue\n",
    "\n",
    "    for didx in distances_dict[qidx].keys():\n",
    "        for sidx, item in enumerate(distances_dict[qidx][didx]):\n",
    "            if item > TS_SMALL and item < TS_LARGE:\n",
    "                add_item(qidx, didx, sidx)"
   ]
  },
  {
   "cell_type": "code",
   "execution_count": 21,
   "metadata": {
    "ExecuteTime": {
     "end_time": "2021-06-29T03:25:40.345410Z",
     "start_time": "2021-06-29T03:25:40.336452Z"
    }
   },
   "outputs": [
    {
     "data": {
      "text/plain": [
       "(7342, 48818, 253547)"
      ]
     },
     "execution_count": 21,
     "metadata": {},
     "output_type": "execute_result"
    }
   ],
   "source": [
    "len(init_data), sum([len(v) for v in init_data.values()]), sum(\n",
    "    [len(a) for b in init_data.values() for a in b.values()])"
   ]
  },
  {
   "cell_type": "code",
   "execution_count": 22,
   "metadata": {
    "ExecuteTime": {
     "end_time": "2021-06-29T03:25:40.410340Z",
     "start_time": "2021-06-29T03:25:40.347653Z"
    }
   },
   "outputs": [
    {
     "data": {
      "text/plain": [
       "(1001620, 1260751, 0.7944629827777253)"
      ]
     },
     "execution_count": 22,
     "metadata": {},
     "output_type": "execute_result"
    }
   ],
   "source": [
    "total_dist = sum([1 for x in distances_dict.values() for y in x.values() for z in y])\n",
    "train_dist = 0\n",
    "for qidx, b in distances_dict.items():\n",
    "    if qidx not in train_qidxs:\n",
    "        continue\n",
    "\n",
    "    for c in b.values():\n",
    "        train_dist += len(c)\n",
    "\n",
    "train_dist, total_dist, train_dist/total_dist"
   ]
  },
  {
   "cell_type": "code",
   "execution_count": 23,
   "metadata": {
    "ExecuteTime": {
     "end_time": "2021-06-29T03:25:40.415363Z",
     "start_time": "2021-06-29T03:25:40.411928Z"
    }
   },
   "outputs": [
    {
     "data": {
      "text/plain": [
       "0.2531369181925281"
      ]
     },
     "execution_count": 23,
     "metadata": {},
     "output_type": "execute_result"
    }
   ],
   "source": [
    "253547 / 1001620"
   ]
  },
  {
   "cell_type": "code",
   "execution_count": 24,
   "metadata": {
    "ExecuteTime": {
     "end_time": "2021-06-29T03:25:49.677282Z",
     "start_time": "2021-06-29T03:25:40.416674Z"
    }
   },
   "outputs": [],
   "source": [
    "pickle.dump(init_data, open(\n",
    "    './data/Weibo/clustering_training_data_{:.3f}<dist<{:.3f}.pkl'.format(TS_SMALL, TS_LARGE), 'wb'))"
   ]
  },
  {
   "cell_type": "code",
   "execution_count": null,
   "metadata": {},
   "outputs": [],
   "source": []
  }
 ],
 "metadata": {
  "kernelspec": {
   "display_name": "Python 3",
   "language": "python",
   "name": "python3"
  },
  "language_info": {
   "codemirror_mode": {
    "name": "ipython",
    "version": 3
   },
   "file_extension": ".py",
   "mimetype": "text/x-python",
   "name": "python",
   "nbconvert_exporter": "python",
   "pygments_lexer": "ipython3",
   "version": "3.6.10"
  },
  "toc": {
   "base_numbering": 1,
   "nav_menu": {},
   "number_sections": true,
   "sideBar": true,
   "skip_h1_title": false,
   "title_cell": "Table of Contents",
   "title_sidebar": "Contents",
   "toc_cell": false,
   "toc_position": {},
   "toc_section_display": true,
   "toc_window_display": true
  }
 },
 "nbformat": 4,
 "nbformat_minor": 4
}
