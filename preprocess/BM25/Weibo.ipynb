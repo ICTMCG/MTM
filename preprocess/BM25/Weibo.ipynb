{
 "cells": [
  {
   "cell_type": "markdown",
   "metadata": {},
   "source": [
    "# BM25"
   ]
  },
  {
   "cell_type": "code",
   "execution_count": 1,
   "metadata": {
    "ExecuteTime": {
     "end_time": "2021-06-20T11:52:09.830812Z",
     "start_time": "2021-06-20T11:52:07.527367Z"
    }
   },
   "outputs": [],
   "source": [
    "from gensim.summarization import bm25\n",
    "from gensim import corpora\n",
    "import numpy as np\n",
    "import json\n",
    "from tqdm import tqdm\n",
    "\n",
    "with open('../../dataset/Weibo/raw/FN_11934_filtered.json', 'r') as f:\n",
    "    FN = json.load(f)\n",
    "with open('../../dataset/Weibo/raw/DN_27505_filtered.json', 'r') as f:\n",
    "    DN = json.load(f)"
   ]
  },
  {
   "cell_type": "code",
   "execution_count": 2,
   "metadata": {
    "ExecuteTime": {
     "end_time": "2021-06-20T11:52:10.337833Z",
     "start_time": "2021-06-20T11:52:10.330491Z"
    }
   },
   "outputs": [],
   "source": [
    "def get_oid2content(pieces):\n",
    "    oid2content = dict()\n",
    "\n",
    "    ocr_num = 0\n",
    "    for p in pieces:\n",
    "        oid = p['_id']\n",
    "        content = p['content']\n",
    "\n",
    "        if 'content_ocr' in p.keys():\n",
    "            ocr_num += 1\n",
    "            content_ocr = ' '.join(p['content_ocr'])\n",
    "            content += ' ' + content_ocr\n",
    "\n",
    "        oid2content[oid] = content\n",
    "\n",
    "    print('ocr: ', ocr_num)\n",
    "    return oid2content"
   ]
  },
  {
   "cell_type": "code",
   "execution_count": 3,
   "metadata": {
    "ExecuteTime": {
     "end_time": "2021-06-20T11:52:10.978239Z",
     "start_time": "2021-06-20T11:52:10.893012Z"
    }
   },
   "outputs": [
    {
     "name": "stdout",
     "output_type": "stream",
     "text": [
      "ocr:  835\n",
      "ocr:  333\n"
     ]
    },
    {
     "data": {
      "text/plain": [
       "(11934, 27505)"
      ]
     },
     "execution_count": 3,
     "metadata": {},
     "output_type": "execute_result"
    }
   ],
   "source": [
    "fnOid2content = get_oid2content(FN)\n",
    "dnOid2content = get_oid2content(DN)\n",
    "\n",
    "len(fnOid2content), len(dnOid2content)"
   ]
  },
  {
   "cell_type": "code",
   "execution_count": 4,
   "metadata": {
    "ExecuteTime": {
     "end_time": "2021-06-20T11:52:14.743502Z",
     "start_time": "2021-06-20T11:52:11.415916Z"
    }
   },
   "outputs": [],
   "source": [
    "corpus = list(dnOid2content.values())\n",
    "bm_model = bm25.BM25(corpus)"
   ]
  },
  {
   "cell_type": "code",
   "execution_count": null,
   "metadata": {
    "ExecuteTime": {
     "start_time": "2021-06-20T11:52:21.350Z"
    }
   },
   "outputs": [
    {
     "name": "stderr",
     "output_type": "stream",
     "text": [
      "\r",
      "  0%|          | 0/11934 [00:00<?, ?it/s]"
     ]
    },
    {
     "name": "stdout",
     "output_type": "stream",
     "text": [
      "bm25_scores:  (11934, 27505)\n"
     ]
    },
    {
     "name": "stderr",
     "output_type": "stream",
     "text": [
      " 87%|████████▋ | 10381/11934 [2:18:05<07:05,  3.65it/s]  "
     ]
    }
   ],
   "source": [
    "bm25_scores = np.zeros((len(FN), len(DN)))\n",
    "print('bm25_scores: ', bm25_scores.shape)\n",
    "\n",
    "for i, fn in enumerate(tqdm(FN)):\n",
    "    search = fnOid2content[fn['_id']]\n",
    "\n",
    "    scores = np.array(bm_model.get_scores(search))\n",
    "    bm25_scores[i] = scores\n",
    "\n",
    "np.save('./data/bm25_scores_{}.npy'.format(bm25_scores.shape), bm25_scores)"
   ]
  },
  {
   "cell_type": "markdown",
   "metadata": {},
   "source": [
    "# Ranking Report"
   ]
  },
  {
   "cell_type": "code",
   "execution_count": null,
   "metadata": {},
   "outputs": [],
   "source": [
    "# TODO"
   ]
  }
 ],
 "metadata": {
  "kernelspec": {
   "display_name": "Python 3",
   "language": "python",
   "name": "python3"
  },
  "language_info": {
   "codemirror_mode": {
    "name": "ipython",
    "version": 3
   },
   "file_extension": ".py",
   "mimetype": "text/x-python",
   "name": "python",
   "nbconvert_exporter": "python",
   "pygments_lexer": "ipython3",
   "version": "3.6.10"
  },
  "toc": {
   "base_numbering": 1,
   "nav_menu": {},
   "number_sections": true,
   "sideBar": true,
   "skip_h1_title": false,
   "title_cell": "Table of Contents",
   "title_sidebar": "Contents",
   "toc_cell": false,
   "toc_position": {
    "height": "calc(100% - 180px)",
    "left": "10px",
    "top": "150px",
    "width": "384px"
   },
   "toc_section_display": true,
   "toc_window_display": true
  }
 },
 "nbformat": 4,
 "nbformat_minor": 4
}
