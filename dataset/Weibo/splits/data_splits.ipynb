{
 "cells": [
  {
   "cell_type": "markdown",
   "metadata": {},
   "source": [
    "# Statistics"
   ]
  },
  {
   "cell_type": "code",
   "execution_count": 1,
   "metadata": {
    "ExecuteTime": {
     "end_time": "2021-06-17T09:17:38.655322Z",
     "start_time": "2021-06-17T09:17:38.344972Z"
    }
   },
   "outputs": [],
   "source": [
    "import pandas as pd\n",
    "import json\n",
    "import random"
   ]
  },
  {
   "cell_type": "code",
   "execution_count": 3,
   "metadata": {
    "ExecuteTime": {
     "end_time": "2021-06-17T09:18:06.379039Z",
     "start_time": "2021-06-17T09:18:05.265265Z"
    }
   },
   "outputs": [
    {
     "data": {
      "text/plain": [
       "(11934, 27505)"
      ]
     },
     "execution_count": 3,
     "metadata": {},
     "output_type": "execute_result"
    }
   ],
   "source": [
    "with open('../raw/FN_11934_filtered.json', 'r') as f:\n",
    "    FN = json.load(f)\n",
    "    \n",
    "with open('../raw/DN_27505_filtered.json', 'r') as f:\n",
    "    DN = json.load(f)\n",
    "    \n",
    "len(FN), len(DN)"
   ]
  },
  {
   "cell_type": "markdown",
   "metadata": {},
   "source": [
    "## Matching Pairs (Total)"
   ]
  },
  {
   "cell_type": "code",
   "execution_count": 4,
   "metadata": {
    "ExecuteTime": {
     "end_time": "2021-06-17T09:18:08.520735Z",
     "start_time": "2021-06-17T09:18:08.503473Z"
    }
   },
   "outputs": [
    {
     "data": {
      "text/plain": [
       "11934"
      ]
     },
     "execution_count": 4,
     "metadata": {},
     "output_type": "execute_result"
    }
   ],
   "source": [
    "matching_num = [len(fn['debunking_ids']) for fn in FN]\n",
    "df = pd.DataFrame({'num': matching_num})\n",
    "len(df)"
   ]
  },
  {
   "cell_type": "code",
   "execution_count": 5,
   "metadata": {
    "ExecuteTime": {
     "end_time": "2021-06-17T09:18:10.552163Z",
     "start_time": "2021-06-17T09:18:10.527757Z"
    }
   },
   "outputs": [
    {
     "data": {
      "text/html": [
       "<div>\n",
       "<style scoped>\n",
       "    .dataframe tbody tr th:only-of-type {\n",
       "        vertical-align: middle;\n",
       "    }\n",
       "\n",
       "    .dataframe tbody tr th {\n",
       "        vertical-align: top;\n",
       "    }\n",
       "\n",
       "    .dataframe thead th {\n",
       "        text-align: right;\n",
       "    }\n",
       "</style>\n",
       "<table border=\"1\" class=\"dataframe\">\n",
       "  <thead>\n",
       "    <tr style=\"text-align: right;\">\n",
       "      <th></th>\n",
       "      <th>num</th>\n",
       "    </tr>\n",
       "  </thead>\n",
       "  <tbody>\n",
       "    <tr>\n",
       "      <th>count</th>\n",
       "      <td>11934.000000</td>\n",
       "    </tr>\n",
       "    <tr>\n",
       "      <th>mean</th>\n",
       "      <td>7.237473</td>\n",
       "    </tr>\n",
       "    <tr>\n",
       "      <th>std</th>\n",
       "      <td>10.306454</td>\n",
       "    </tr>\n",
       "    <tr>\n",
       "      <th>min</th>\n",
       "      <td>1.000000</td>\n",
       "    </tr>\n",
       "    <tr>\n",
       "      <th>25%</th>\n",
       "      <td>1.000000</td>\n",
       "    </tr>\n",
       "    <tr>\n",
       "      <th>50%</th>\n",
       "      <td>3.000000</td>\n",
       "    </tr>\n",
       "    <tr>\n",
       "      <th>75%</th>\n",
       "      <td>8.000000</td>\n",
       "    </tr>\n",
       "    <tr>\n",
       "      <th>max</th>\n",
       "      <td>138.000000</td>\n",
       "    </tr>\n",
       "  </tbody>\n",
       "</table>\n",
       "</div>"
      ],
      "text/plain": [
       "                num\n",
       "count  11934.000000\n",
       "mean       7.237473\n",
       "std       10.306454\n",
       "min        1.000000\n",
       "25%        1.000000\n",
       "50%        3.000000\n",
       "75%        8.000000\n",
       "max      138.000000"
      ]
     },
     "execution_count": 5,
     "metadata": {},
     "output_type": "execute_result"
    }
   ],
   "source": [
    "df.describe()"
   ]
  },
  {
   "cell_type": "code",
   "execution_count": 6,
   "metadata": {
    "ExecuteTime": {
     "end_time": "2021-06-17T09:18:12.121135Z",
     "start_time": "2021-06-17T09:18:12.103007Z"
    }
   },
   "outputs": [
    {
     "data": {
      "text/html": [
       "<div>\n",
       "<style scoped>\n",
       "    .dataframe tbody tr th:only-of-type {\n",
       "        vertical-align: middle;\n",
       "    }\n",
       "\n",
       "    .dataframe tbody tr th {\n",
       "        vertical-align: top;\n",
       "    }\n",
       "\n",
       "    .dataframe thead th {\n",
       "        text-align: right;\n",
       "    }\n",
       "</style>\n",
       "<table border=\"1\" class=\"dataframe\">\n",
       "  <thead>\n",
       "    <tr style=\"text-align: right;\">\n",
       "      <th></th>\n",
       "      <th>num</th>\n",
       "    </tr>\n",
       "  </thead>\n",
       "  <tbody>\n",
       "    <tr>\n",
       "      <th>count</th>\n",
       "      <td>851.000000</td>\n",
       "    </tr>\n",
       "    <tr>\n",
       "      <th>mean</th>\n",
       "      <td>37.296122</td>\n",
       "    </tr>\n",
       "    <tr>\n",
       "      <th>std</th>\n",
       "      <td>13.728090</td>\n",
       "    </tr>\n",
       "    <tr>\n",
       "      <th>min</th>\n",
       "      <td>26.000000</td>\n",
       "    </tr>\n",
       "    <tr>\n",
       "      <th>25%</th>\n",
       "      <td>30.000000</td>\n",
       "    </tr>\n",
       "    <tr>\n",
       "      <th>50%</th>\n",
       "      <td>36.000000</td>\n",
       "    </tr>\n",
       "    <tr>\n",
       "      <th>75%</th>\n",
       "      <td>38.000000</td>\n",
       "    </tr>\n",
       "    <tr>\n",
       "      <th>max</th>\n",
       "      <td>138.000000</td>\n",
       "    </tr>\n",
       "  </tbody>\n",
       "</table>\n",
       "</div>"
      ],
      "text/plain": [
       "              num\n",
       "count  851.000000\n",
       "mean    37.296122\n",
       "std     13.728090\n",
       "min     26.000000\n",
       "25%     30.000000\n",
       "50%     36.000000\n",
       "75%     38.000000\n",
       "max    138.000000"
      ]
     },
     "execution_count": 6,
     "metadata": {},
     "output_type": "execute_result"
    }
   ],
   "source": [
    "df[df['num']>25].describe()"
   ]
  },
  {
   "cell_type": "code",
   "execution_count": 7,
   "metadata": {
    "ExecuteTime": {
     "end_time": "2021-06-17T09:18:17.600078Z",
     "start_time": "2021-06-17T09:18:17.595038Z"
    }
   },
   "outputs": [
    {
     "data": {
      "text/plain": [
       "86372"
      ]
     },
     "execution_count": 7,
     "metadata": {},
     "output_type": "execute_result"
    }
   ],
   "source": [
    "sum(matching_num)"
   ]
  },
  {
   "cell_type": "markdown",
   "metadata": {},
   "source": [
    "## Sentences Num of DN"
   ]
  },
  {
   "cell_type": "code",
   "execution_count": 8,
   "metadata": {
    "ExecuteTime": {
     "end_time": "2021-06-17T09:18:31.635812Z",
     "start_time": "2021-06-17T09:18:31.615427Z"
    }
   },
   "outputs": [
    {
     "data": {
      "text/plain": [
       "27505"
      ]
     },
     "execution_count": 8,
     "metadata": {},
     "output_type": "execute_result"
    }
   ],
   "source": [
    "sents_num = [len(dn['content_all']) for dn in DN]\n",
    "df = pd.DataFrame({'num':sents_num})\n",
    "len(df)"
   ]
  },
  {
   "cell_type": "code",
   "execution_count": 9,
   "metadata": {
    "ExecuteTime": {
     "end_time": "2021-06-17T09:18:32.584277Z",
     "start_time": "2021-06-17T09:18:32.566429Z"
    }
   },
   "outputs": [
    {
     "data": {
      "text/html": [
       "<div>\n",
       "<style scoped>\n",
       "    .dataframe tbody tr th:only-of-type {\n",
       "        vertical-align: middle;\n",
       "    }\n",
       "\n",
       "    .dataframe tbody tr th {\n",
       "        vertical-align: top;\n",
       "    }\n",
       "\n",
       "    .dataframe thead th {\n",
       "        text-align: right;\n",
       "    }\n",
       "</style>\n",
       "<table border=\"1\" class=\"dataframe\">\n",
       "  <thead>\n",
       "    <tr style=\"text-align: right;\">\n",
       "      <th></th>\n",
       "      <th>num</th>\n",
       "    </tr>\n",
       "  </thead>\n",
       "  <tbody>\n",
       "    <tr>\n",
       "      <th>count</th>\n",
       "      <td>27505.000000</td>\n",
       "    </tr>\n",
       "    <tr>\n",
       "      <th>mean</th>\n",
       "      <td>15.208653</td>\n",
       "    </tr>\n",
       "    <tr>\n",
       "      <th>std</th>\n",
       "      <td>20.060215</td>\n",
       "    </tr>\n",
       "    <tr>\n",
       "      <th>min</th>\n",
       "      <td>1.000000</td>\n",
       "    </tr>\n",
       "    <tr>\n",
       "      <th>25%</th>\n",
       "      <td>4.000000</td>\n",
       "    </tr>\n",
       "    <tr>\n",
       "      <th>50%</th>\n",
       "      <td>7.000000</td>\n",
       "    </tr>\n",
       "    <tr>\n",
       "      <th>75%</th>\n",
       "      <td>19.000000</td>\n",
       "    </tr>\n",
       "    <tr>\n",
       "      <th>max</th>\n",
       "      <td>356.000000</td>\n",
       "    </tr>\n",
       "  </tbody>\n",
       "</table>\n",
       "</div>"
      ],
      "text/plain": [
       "                num\n",
       "count  27505.000000\n",
       "mean      15.208653\n",
       "std       20.060215\n",
       "min        1.000000\n",
       "25%        4.000000\n",
       "50%        7.000000\n",
       "75%       19.000000\n",
       "max      356.000000"
      ]
     },
     "execution_count": 9,
     "metadata": {},
     "output_type": "execute_result"
    }
   ],
   "source": [
    "df.describe()"
   ]
  },
  {
   "cell_type": "code",
   "execution_count": 10,
   "metadata": {
    "ExecuteTime": {
     "end_time": "2021-06-17T09:18:33.371816Z",
     "start_time": "2021-06-17T09:18:33.351816Z"
    }
   },
   "outputs": [
    {
     "data": {
      "text/html": [
       "<div>\n",
       "<style scoped>\n",
       "    .dataframe tbody tr th:only-of-type {\n",
       "        vertical-align: middle;\n",
       "    }\n",
       "\n",
       "    .dataframe tbody tr th {\n",
       "        vertical-align: top;\n",
       "    }\n",
       "\n",
       "    .dataframe thead th {\n",
       "        text-align: right;\n",
       "    }\n",
       "</style>\n",
       "<table border=\"1\" class=\"dataframe\">\n",
       "  <thead>\n",
       "    <tr style=\"text-align: right;\">\n",
       "      <th></th>\n",
       "      <th>num</th>\n",
       "    </tr>\n",
       "  </thead>\n",
       "  <tbody>\n",
       "    <tr>\n",
       "      <th>count</th>\n",
       "      <td>10942.000000</td>\n",
       "    </tr>\n",
       "    <tr>\n",
       "      <th>mean</th>\n",
       "      <td>3.216871</td>\n",
       "    </tr>\n",
       "    <tr>\n",
       "      <th>std</th>\n",
       "      <td>1.330441</td>\n",
       "    </tr>\n",
       "    <tr>\n",
       "      <th>min</th>\n",
       "      <td>1.000000</td>\n",
       "    </tr>\n",
       "    <tr>\n",
       "      <th>25%</th>\n",
       "      <td>2.000000</td>\n",
       "    </tr>\n",
       "    <tr>\n",
       "      <th>50%</th>\n",
       "      <td>3.000000</td>\n",
       "    </tr>\n",
       "    <tr>\n",
       "      <th>75%</th>\n",
       "      <td>4.000000</td>\n",
       "    </tr>\n",
       "    <tr>\n",
       "      <th>max</th>\n",
       "      <td>5.000000</td>\n",
       "    </tr>\n",
       "  </tbody>\n",
       "</table>\n",
       "</div>"
      ],
      "text/plain": [
       "                num\n",
       "count  10942.000000\n",
       "mean       3.216871\n",
       "std        1.330441\n",
       "min        1.000000\n",
       "25%        2.000000\n",
       "50%        3.000000\n",
       "75%        4.000000\n",
       "max        5.000000"
      ]
     },
     "execution_count": 10,
     "metadata": {},
     "output_type": "execute_result"
    }
   ],
   "source": [
    "df[df['num']<=5].describe()"
   ]
  },
  {
   "cell_type": "code",
   "execution_count": 11,
   "metadata": {
    "ExecuteTime": {
     "end_time": "2021-06-17T09:18:34.119493Z",
     "start_time": "2021-06-17T09:18:34.102783Z"
    }
   },
   "outputs": [
    {
     "data": {
      "text/html": [
       "<div>\n",
       "<style scoped>\n",
       "    .dataframe tbody tr th:only-of-type {\n",
       "        vertical-align: middle;\n",
       "    }\n",
       "\n",
       "    .dataframe tbody tr th {\n",
       "        vertical-align: top;\n",
       "    }\n",
       "\n",
       "    .dataframe thead th {\n",
       "        text-align: right;\n",
       "    }\n",
       "</style>\n",
       "<table border=\"1\" class=\"dataframe\">\n",
       "  <thead>\n",
       "    <tr style=\"text-align: right;\">\n",
       "      <th></th>\n",
       "      <th>num</th>\n",
       "    </tr>\n",
       "  </thead>\n",
       "  <tbody>\n",
       "    <tr>\n",
       "      <th>count</th>\n",
       "      <td>6010.000000</td>\n",
       "    </tr>\n",
       "    <tr>\n",
       "      <th>mean</th>\n",
       "      <td>2.176539</td>\n",
       "    </tr>\n",
       "    <tr>\n",
       "      <th>std</th>\n",
       "      <td>0.785084</td>\n",
       "    </tr>\n",
       "    <tr>\n",
       "      <th>min</th>\n",
       "      <td>1.000000</td>\n",
       "    </tr>\n",
       "    <tr>\n",
       "      <th>25%</th>\n",
       "      <td>2.000000</td>\n",
       "    </tr>\n",
       "    <tr>\n",
       "      <th>50%</th>\n",
       "      <td>2.000000</td>\n",
       "    </tr>\n",
       "    <tr>\n",
       "      <th>75%</th>\n",
       "      <td>3.000000</td>\n",
       "    </tr>\n",
       "    <tr>\n",
       "      <th>max</th>\n",
       "      <td>3.000000</td>\n",
       "    </tr>\n",
       "  </tbody>\n",
       "</table>\n",
       "</div>"
      ],
      "text/plain": [
       "               num\n",
       "count  6010.000000\n",
       "mean      2.176539\n",
       "std       0.785084\n",
       "min       1.000000\n",
       "25%       2.000000\n",
       "50%       2.000000\n",
       "75%       3.000000\n",
       "max       3.000000"
      ]
     },
     "execution_count": 11,
     "metadata": {},
     "output_type": "execute_result"
    }
   ],
   "source": [
    "df[df['num']<=3].describe()"
   ]
  },
  {
   "cell_type": "code",
   "execution_count": 12,
   "metadata": {
    "ExecuteTime": {
     "end_time": "2021-06-17T09:18:35.451140Z",
     "start_time": "2021-06-17T09:18:35.443601Z"
    }
   },
   "outputs": [
    {
     "data": {
      "text/plain": [
       "(0.21850572623159426, 0.39781857844028357)"
      ]
     },
     "execution_count": 12,
     "metadata": {},
     "output_type": "execute_result"
    }
   ],
   "source": [
    "len(df[df['num'] <= 3]) / len(df), len(df[df['num'] <= 5]) / len(df)"
   ]
  },
  {
   "cell_type": "markdown",
   "metadata": {},
   "source": [
    "# Splits"
   ]
  },
  {
   "cell_type": "markdown",
   "metadata": {},
   "source": [
    "## Loading"
   ]
  },
  {
   "cell_type": "code",
   "execution_count": 1,
   "metadata": {
    "ExecuteTime": {
     "end_time": "2021-06-17T09:18:51.365259Z",
     "start_time": "2021-06-17T09:18:51.077520Z"
    }
   },
   "outputs": [],
   "source": [
    "import pandas as pd\n",
    "import json\n",
    "import random\n",
    "import numpy as np\n",
    "from tqdm import tqdm"
   ]
  },
  {
   "cell_type": "code",
   "execution_count": 2,
   "metadata": {
    "ExecuteTime": {
     "end_time": "2021-06-17T09:19:06.632706Z",
     "start_time": "2021-06-17T09:19:05.428310Z"
    }
   },
   "outputs": [
    {
     "data": {
      "text/plain": [
       "(11934, 27505)"
      ]
     },
     "execution_count": 2,
     "metadata": {},
     "output_type": "execute_result"
    }
   ],
   "source": [
    "with open('../raw/FN_11934_filtered.json', 'r') as f:\n",
    "    FN = json.load(f)\n",
    "\n",
    "with open('../raw/DN_27505_filtered.json', 'r') as f:\n",
    "    DN = json.load(f)\n",
    "\n",
    "len(FN), len(DN)"
   ]
  },
  {
   "cell_type": "code",
   "execution_count": 3,
   "metadata": {
    "ExecuteTime": {
     "end_time": "2021-06-17T09:19:08.833393Z",
     "start_time": "2021-06-17T09:19:08.803564Z"
    }
   },
   "outputs": [],
   "source": [
    "fnOid2item = {fn['_id']: fn for fn in FN}\n",
    "dnOid2item = {dn['_id']: dn for dn in DN}\n",
    "\n",
    "fnOid2idx = {fn['_id']: i for i, fn in enumerate(FN)}\n",
    "dnOid2idx = {dn['_id']: i for i, dn in enumerate(DN)}"
   ]
  },
  {
   "cell_type": "code",
   "execution_count": 4,
   "metadata": {
    "ExecuteTime": {
     "end_time": "2021-06-17T09:19:10.025536Z",
     "start_time": "2021-06-17T09:19:10.015173Z"
    }
   },
   "outputs": [],
   "source": [
    "dnOid2sentsLen = {dn['_id']:len(dn['content_all']) for dn in DN}"
   ]
  },
  {
   "cell_type": "code",
   "execution_count": 5,
   "metadata": {
    "ExecuteTime": {
     "end_time": "2021-06-17T09:19:12.129284Z",
     "start_time": "2021-06-17T09:19:12.115879Z"
    }
   },
   "outputs": [
    {
     "data": {
      "text/plain": [
       "[('5fef066911f159c49f84b0e8', 28),\n",
       " ('5fed832711f159c49f84b0e3', 189),\n",
       " ('5f64bf8c11f159c49f84af7e', 6),\n",
       " ('5f64bf8b11f159c49f84af79', 6),\n",
       " ('5f64bf8c11f159c49f84af7b', 6)]"
      ]
     },
     "execution_count": 5,
     "metadata": {},
     "output_type": "execute_result"
    }
   ],
   "source": [
    "list(dnOid2sentsLen.items())[:5]"
   ]
  },
  {
   "cell_type": "code",
   "execution_count": 6,
   "metadata": {
    "ExecuteTime": {
     "end_time": "2021-06-17T09:19:13.183402Z",
     "start_time": "2021-06-17T09:19:13.178510Z"
    }
   },
   "outputs": [
    {
     "data": {
      "text/plain": [
       "{'_id': '5f0ed06ada7c229f16a54452',\n",
       " 'content': '再发一条简体中文的：谢才萍，江湖上人称“谢姐”，是重庆目前已逮捕的十九个黑恶团伙首犯中唯一一位女性，江湖地位甚高。谢才萍与文强是“亲戚关系”：她是文强的弟媳。让人瞠目的是，谢才萍在个人生活上极度荒淫。重庆市打黑成果展显示，她长期包养十六个年轻男子供自己玩乐。',\n",
       " 'event': '5f5e37e063fc4d00ff6bedcc',\n",
       " 'time': 1255276800000,\n",
       " 'time_format': '2009-10-12 00:00:00',\n",
       " 'debunking_ids': ['6002d4fbbc9086321270c5dc'],\n",
       " 'content_all': '再发一条简体中文的：谢才萍，江湖上人称“谢姐”，是重庆目前已逮捕的十九个黑恶团伙首犯中唯一一位女性，江湖地位甚高。谢才萍与文强是“亲戚关系”：她是文强的弟媳。让人瞠目的是，谢才萍在个人生活上极度荒淫。重庆市打黑成果展显示，她长期包养十六个年轻男子供自己玩乐。'}"
      ]
     },
     "execution_count": 6,
     "metadata": {},
     "output_type": "execute_result"
    }
   ],
   "source": [
    "FN[0]"
   ]
  },
  {
   "cell_type": "code",
   "execution_count": 7,
   "metadata": {
    "ExecuteTime": {
     "end_time": "2021-03-30T06:42:58.986702Z",
     "start_time": "2021-03-30T06:42:58.980519Z"
    }
   },
   "outputs": [],
   "source": [
    "def get_qids(event_file):\n",
    "    with open(event_file, 'r') as f:\n",
    "        events = json.load(f)\n",
    "        \n",
    "    qids = []\n",
    "    for fn in FN:\n",
    "        if fn['event'] in events:\n",
    "            qids.append(fn['_id'])\n",
    "            \n",
    "    print(len(qids), len(set(qids)))\n",
    "    return qids"
   ]
  },
  {
   "cell_type": "code",
   "execution_count": 9,
   "metadata": {
    "ExecuteTime": {
     "end_time": "2021-03-30T06:44:37.685988Z",
     "start_time": "2021-03-30T06:44:37.194113Z"
    }
   },
   "outputs": [
    {
     "name": "stdout",
     "output_type": "stream",
     "text": [
      "8356 8356\n",
      "1192 1192\n",
      "2386 2386\n"
     ]
    }
   ],
   "source": [
    "train_qids, val_qids, test_qids = get_qids('./data/data_splits_setting1/events.train'), get_qids(\n",
    "    './data/data_splits_setting1/events.dev'), get_qids('./data/data_splits_setting1/events.test')"
   ]
  },
  {
   "cell_type": "code",
   "execution_count": 10,
   "metadata": {
    "ExecuteTime": {
     "end_time": "2021-03-30T06:44:39.410050Z",
     "start_time": "2021-03-30T06:44:39.403317Z"
    }
   },
   "outputs": [
    {
     "data": {
      "text/plain": [
       "11934"
      ]
     },
     "execution_count": 10,
     "metadata": {},
     "output_type": "execute_result"
    }
   ],
   "source": [
    "len(train_qids) + len(val_qids) + len(test_qids)"
   ]
  },
  {
   "cell_type": "code",
   "execution_count": 11,
   "metadata": {
    "ExecuteTime": {
     "end_time": "2021-03-30T06:44:40.720648Z",
     "start_time": "2021-03-30T06:44:40.713871Z"
    }
   },
   "outputs": [
    {
     "data": {
      "text/plain": [
       "(set(), set(), set(), 8356, 1192, 2386)"
      ]
     },
     "execution_count": 11,
     "metadata": {},
     "output_type": "execute_result"
    }
   ],
   "source": [
    "a = set(train_qids)\n",
    "b = set(val_qids)\n",
    "c = set(test_qids)\n",
    "\n",
    "a.intersection(b), a.intersection(c), b.intersection(c), len(a), len(b), len(c)"
   ]
  },
  {
   "cell_type": "code",
   "execution_count": 12,
   "metadata": {
    "ExecuteTime": {
     "end_time": "2021-03-30T06:44:41.918713Z",
     "start_time": "2021-03-30T06:44:41.914577Z"
    }
   },
   "outputs": [
    {
     "data": {
      "text/plain": [
       "(0.199932964638847, 0.09988268811798223)"
      ]
     },
     "execution_count": 12,
     "metadata": {},
     "output_type": "execute_result"
    }
   ],
   "source": [
    "len(test_qids) / len(FN), len(val_qids) / len(FN)"
   ]
  },
  {
   "cell_type": "code",
   "execution_count": null,
   "metadata": {
    "ExecuteTime": {
     "start_time": "2021-03-30T06:44:43.156Z"
    }
   },
   "outputs": [],
   "source": [
    "bm25_arr = np.load('./data/bm25/bm25_scores_(11934, 27505).npy')\n",
    "bm25_arr.shape"
   ]
  },
  {
   "cell_type": "code",
   "execution_count": 13,
   "metadata": {
    "ExecuteTime": {
     "end_time": "2021-01-26T12:47:08.888946Z",
     "start_time": "2021-01-26T12:47:08.883925Z"
    }
   },
   "outputs": [
    {
     "data": {
      "text/plain": [
       "array([147.65676972, 175.41249475, 152.70300736, ..., 147.03297213,\n",
       "       175.86724546, 150.45702979])"
      ]
     },
     "execution_count": 13,
     "metadata": {},
     "output_type": "execute_result"
    }
   ],
   "source": [
    "bm25_arr[0]"
   ]
  },
  {
   "cell_type": "code",
   "execution_count": 14,
   "metadata": {
    "ExecuteTime": {
     "end_time": "2021-01-26T12:48:15.302582Z",
     "start_time": "2021-01-26T12:48:15.294784Z"
    }
   },
   "outputs": [],
   "source": [
    "def analysis_qid2dids(qid2dids):\n",
    "    is_pair = []\n",
    "    for qid, dids in qid2dids.items():\n",
    "        is_pair.append(len(set(dids).intersection(\n",
    "            set(fnOid2item[qid]['debunking_ids']))))\n",
    "\n",
    "    df = pd.DataFrame({'matching_num': is_pair})\n",
    "    return df.describe()"
   ]
  },
  {
   "cell_type": "code",
   "execution_count": 15,
   "metadata": {
    "ExecuteTime": {
     "end_time": "2021-01-26T12:48:15.972591Z",
     "start_time": "2021-01-26T12:48:15.957764Z"
    }
   },
   "outputs": [],
   "source": [
    "def transfer2lineDf(qid2dids):\n",
    "    Qids = []\n",
    "    Qidxs = []\n",
    "    Dids = []\n",
    "    Didxs = []\n",
    "    Labels = []\n",
    "\n",
    "    for qid, dids in qid2dids.items():\n",
    "        Qids += [qid] * len(dids)\n",
    "        Qidxs += [fnOid2idx[qid]] * len(dids)\n",
    "        Dids += dids\n",
    "        Didxs += [dnOid2idx[did] for did in dids]\n",
    "        Labels += [1 if did in fnOid2item[qid]\n",
    "                   ['debunking_ids'] else 0 for did in dids]\n",
    "\n",
    "    df_line = pd.DataFrame(dict(zip(['qid', 'qidx', 'did', 'didx', 'label'], [\n",
    "                           Qids, Qidxs, Dids, Didxs, Labels])))\n",
    "\n",
    "    return df_line\n",
    "\n",
    "\n",
    "def transfer2df(qid2dids):\n",
    "    Qids = []\n",
    "    Qidxs = []\n",
    "    Dids = []\n",
    "    Didxs = []\n",
    "    Labels = []\n",
    "\n",
    "    for qid, dids in qid2dids.items():\n",
    "        Qids += [qid]\n",
    "        Qidxs += [fnOid2idx[qid]]\n",
    "        Dids += [dids]\n",
    "        Didxs += [[dnOid2idx[did] for did in dids]]\n",
    "        Labels += [[1 if did in fnOid2item[qid]\n",
    "                    ['debunking_ids'] else 0 for did in dids]]\n",
    "\n",
    "    df = pd.DataFrame(dict(zip(['qid', 'qidx', 'did', 'didx', 'label'], [\n",
    "                           Qids, Qidxs, Dids, Didxs, Labels])))\n",
    "\n",
    "    return df"
   ]
  },
  {
   "cell_type": "code",
   "execution_count": 16,
   "metadata": {
    "ExecuteTime": {
     "end_time": "2021-01-26T12:48:32.302836Z",
     "start_time": "2021-01-26T12:48:32.297559Z"
    }
   },
   "outputs": [],
   "source": [
    "def analysis_lineDf(df):\n",
    "    qids = set(df['qid'])\n",
    "    dids = set(df['did'])\n",
    "\n",
    "    total_pairs = sum([len(fnOid2item[qid]['debunking_ids']) for qid in qids])\n",
    "    top50_pairs = len(df[df['label'] == 1])\n",
    "\n",
    "    print('qids = {}, dids = {}, total pairs = {}, top50 pairs = {}'.format(\n",
    "        len(qids), len(dids), total_pairs, top50_pairs))\n",
    "    \n",
    "    return df.describe()"
   ]
  },
  {
   "cell_type": "markdown",
   "metadata": {},
   "source": [
    "## setting1: 尽可能多的使用正例（最多使用25个）"
   ]
  },
  {
   "cell_type": "code",
   "execution_count": 15,
   "metadata": {
    "ExecuteTime": {
     "end_time": "2021-01-26T04:44:39.958629Z",
     "start_time": "2021-01-26T04:44:39.944846Z"
    }
   },
   "outputs": [],
   "source": [
    "def extra_neg_dids(qid, num, existing_pos_dids):\n",
    "    extra_dids = []\n",
    "\n",
    "    score = bm25_arr[fnOid2idx[qid]]\n",
    "    # choose bm25 top scores and not exitst in pos_dids\n",
    "    for r in np.argsort(score)[::-1]:\n",
    "        if len(extra_dids) == num:\n",
    "            return extra_dids\n",
    "        elif DN[r]['_id'] in existing_pos_dids:\n",
    "            continue\n",
    "        else:\n",
    "            extra_dids.append(DN[r]['_id'])\n",
    "\n",
    "\n",
    "def get_dids_from_qids(qids, TOP=50, MAX=25):\n",
    "    qid2dids = dict()\n",
    "\n",
    "    for qid in tqdm(qids):\n",
    "        debunking_ids = fnOid2item[qid]['debunking_ids']\n",
    "\n",
    "        if len(debunking_ids) <= MAX:\n",
    "            chosen_dids = debunking_ids\n",
    "        else:\n",
    "            sents_num = [dnOid2sentsLen[did] for did in debunking_ids]\n",
    "            sents_num_rank = np.argsort(sents_num)[::-1]\n",
    "            chosen_dids = [debunking_ids[r] for r in sents_num_rank[:MAX]]\n",
    "\n",
    "        dids = chosen_dids + \\\n",
    "            extra_neg_dids(qid, TOP - len(chosen_dids), debunking_ids)\n",
    "\n",
    "        qid2dids[qid] = dids\n",
    "\n",
    "    print(len(qid2dids), len(qid2dids)*50,\n",
    "          sum([len(v) for v in qid2dids.values()]))\n",
    "    print()\n",
    "\n",
    "    return qid2dids"
   ]
  },
  {
   "cell_type": "code",
   "execution_count": 16,
   "metadata": {
    "ExecuteTime": {
     "end_time": "2021-01-26T04:45:37.868538Z",
     "start_time": "2021-01-26T04:45:13.458132Z"
    }
   },
   "outputs": [
    {
     "name": "stderr",
     "output_type": "stream",
     "text": [
      "100%|██████████| 8356/8356 [00:17<00:00, 490.15it/s]\n",
      "  4%|▍         | 53/1192 [00:00<00:02, 529.81it/s]"
     ]
    },
    {
     "name": "stdout",
     "output_type": "stream",
     "text": [
      "8356 417800 417800\n",
      "\n"
     ]
    },
    {
     "name": "stderr",
     "output_type": "stream",
     "text": [
      "100%|██████████| 1192/1192 [00:02<00:00, 472.29it/s]\n",
      "  2%|▏         | 40/2386 [00:00<00:05, 393.87it/s]"
     ]
    },
    {
     "name": "stdout",
     "output_type": "stream",
     "text": [
      "1192 59600 59600\n",
      "\n"
     ]
    },
    {
     "name": "stderr",
     "output_type": "stream",
     "text": [
      "100%|██████████| 2386/2386 [00:04<00:00, 495.35it/s]"
     ]
    },
    {
     "name": "stdout",
     "output_type": "stream",
     "text": [
      "2386 119300 119300\n",
      "\n"
     ]
    },
    {
     "name": "stderr",
     "output_type": "stream",
     "text": [
      "\n"
     ]
    }
   ],
   "source": [
    "train_qid2dids = get_dids_from_qids(qids=train_qids)\n",
    "val_qid2dids = get_dids_from_qids(qids=val_qids)\n",
    "test_qid2dids = get_dids_from_qids(qids=test_qids)"
   ]
  },
  {
   "cell_type": "code",
   "execution_count": 26,
   "metadata": {
    "ExecuteTime": {
     "end_time": "2021-01-26T04:59:22.891217Z",
     "start_time": "2021-01-26T04:59:22.827198Z"
    }
   },
   "outputs": [
    {
     "data": {
      "text/html": [
       "<div>\n",
       "<style scoped>\n",
       "    .dataframe tbody tr th:only-of-type {\n",
       "        vertical-align: middle;\n",
       "    }\n",
       "\n",
       "    .dataframe tbody tr th {\n",
       "        vertical-align: top;\n",
       "    }\n",
       "\n",
       "    .dataframe thead th {\n",
       "        text-align: right;\n",
       "    }\n",
       "</style>\n",
       "<table border=\"1\" class=\"dataframe\">\n",
       "  <thead>\n",
       "    <tr style=\"text-align: right;\">\n",
       "      <th></th>\n",
       "      <th>matching_num</th>\n",
       "    </tr>\n",
       "  </thead>\n",
       "  <tbody>\n",
       "    <tr>\n",
       "      <th>count</th>\n",
       "      <td>8356.000000</td>\n",
       "    </tr>\n",
       "    <tr>\n",
       "      <th>mean</th>\n",
       "      <td>6.599090</td>\n",
       "    </tr>\n",
       "    <tr>\n",
       "      <th>std</th>\n",
       "      <td>7.370319</td>\n",
       "    </tr>\n",
       "    <tr>\n",
       "      <th>min</th>\n",
       "      <td>1.000000</td>\n",
       "    </tr>\n",
       "    <tr>\n",
       "      <th>25%</th>\n",
       "      <td>1.000000</td>\n",
       "    </tr>\n",
       "    <tr>\n",
       "      <th>50%</th>\n",
       "      <td>3.000000</td>\n",
       "    </tr>\n",
       "    <tr>\n",
       "      <th>75%</th>\n",
       "      <td>8.000000</td>\n",
       "    </tr>\n",
       "    <tr>\n",
       "      <th>max</th>\n",
       "      <td>25.000000</td>\n",
       "    </tr>\n",
       "  </tbody>\n",
       "</table>\n",
       "</div>"
      ],
      "text/plain": [
       "       matching_num\n",
       "count   8356.000000\n",
       "mean       6.599090\n",
       "std        7.370319\n",
       "min        1.000000\n",
       "25%        1.000000\n",
       "50%        3.000000\n",
       "75%        8.000000\n",
       "max       25.000000"
      ]
     },
     "execution_count": 26,
     "metadata": {},
     "output_type": "execute_result"
    }
   ],
   "source": [
    "analysis_qid2dids(train_qid2dids)"
   ]
  },
  {
   "cell_type": "code",
   "execution_count": 27,
   "metadata": {
    "ExecuteTime": {
     "end_time": "2021-01-26T04:59:31.533642Z",
     "start_time": "2021-01-26T04:59:31.513785Z"
    }
   },
   "outputs": [
    {
     "data": {
      "text/html": [
       "<div>\n",
       "<style scoped>\n",
       "    .dataframe tbody tr th:only-of-type {\n",
       "        vertical-align: middle;\n",
       "    }\n",
       "\n",
       "    .dataframe tbody tr th {\n",
       "        vertical-align: top;\n",
       "    }\n",
       "\n",
       "    .dataframe thead th {\n",
       "        text-align: right;\n",
       "    }\n",
       "</style>\n",
       "<table border=\"1\" class=\"dataframe\">\n",
       "  <thead>\n",
       "    <tr style=\"text-align: right;\">\n",
       "      <th></th>\n",
       "      <th>matching_num</th>\n",
       "    </tr>\n",
       "  </thead>\n",
       "  <tbody>\n",
       "    <tr>\n",
       "      <th>count</th>\n",
       "      <td>1192.000000</td>\n",
       "    </tr>\n",
       "    <tr>\n",
       "      <th>mean</th>\n",
       "      <td>5.568792</td>\n",
       "    </tr>\n",
       "    <tr>\n",
       "      <th>std</th>\n",
       "      <td>5.593744</td>\n",
       "    </tr>\n",
       "    <tr>\n",
       "      <th>min</th>\n",
       "      <td>1.000000</td>\n",
       "    </tr>\n",
       "    <tr>\n",
       "      <th>25%</th>\n",
       "      <td>1.000000</td>\n",
       "    </tr>\n",
       "    <tr>\n",
       "      <th>50%</th>\n",
       "      <td>3.000000</td>\n",
       "    </tr>\n",
       "    <tr>\n",
       "      <th>75%</th>\n",
       "      <td>8.000000</td>\n",
       "    </tr>\n",
       "    <tr>\n",
       "      <th>max</th>\n",
       "      <td>25.000000</td>\n",
       "    </tr>\n",
       "  </tbody>\n",
       "</table>\n",
       "</div>"
      ],
      "text/plain": [
       "       matching_num\n",
       "count   1192.000000\n",
       "mean       5.568792\n",
       "std        5.593744\n",
       "min        1.000000\n",
       "25%        1.000000\n",
       "50%        3.000000\n",
       "75%        8.000000\n",
       "max       25.000000"
      ]
     },
     "execution_count": 27,
     "metadata": {},
     "output_type": "execute_result"
    }
   ],
   "source": [
    "analysis_qid2dids(val_qid2dids)"
   ]
  },
  {
   "cell_type": "code",
   "execution_count": 28,
   "metadata": {
    "ExecuteTime": {
     "end_time": "2021-01-26T04:59:40.394853Z",
     "start_time": "2021-01-26T04:59:40.364131Z"
    }
   },
   "outputs": [
    {
     "data": {
      "text/html": [
       "<div>\n",
       "<style scoped>\n",
       "    .dataframe tbody tr th:only-of-type {\n",
       "        vertical-align: middle;\n",
       "    }\n",
       "\n",
       "    .dataframe tbody tr th {\n",
       "        vertical-align: top;\n",
       "    }\n",
       "\n",
       "    .dataframe thead th {\n",
       "        text-align: right;\n",
       "    }\n",
       "</style>\n",
       "<table border=\"1\" class=\"dataframe\">\n",
       "  <thead>\n",
       "    <tr style=\"text-align: right;\">\n",
       "      <th></th>\n",
       "      <th>matching_num</th>\n",
       "    </tr>\n",
       "  </thead>\n",
       "  <tbody>\n",
       "    <tr>\n",
       "      <th>count</th>\n",
       "      <td>2386.000000</td>\n",
       "    </tr>\n",
       "    <tr>\n",
       "      <th>mean</th>\n",
       "      <td>5.921207</td>\n",
       "    </tr>\n",
       "    <tr>\n",
       "      <th>std</th>\n",
       "      <td>6.634678</td>\n",
       "    </tr>\n",
       "    <tr>\n",
       "      <th>min</th>\n",
       "      <td>1.000000</td>\n",
       "    </tr>\n",
       "    <tr>\n",
       "      <th>25%</th>\n",
       "      <td>1.000000</td>\n",
       "    </tr>\n",
       "    <tr>\n",
       "      <th>50%</th>\n",
       "      <td>3.000000</td>\n",
       "    </tr>\n",
       "    <tr>\n",
       "      <th>75%</th>\n",
       "      <td>7.000000</td>\n",
       "    </tr>\n",
       "    <tr>\n",
       "      <th>max</th>\n",
       "      <td>25.000000</td>\n",
       "    </tr>\n",
       "  </tbody>\n",
       "</table>\n",
       "</div>"
      ],
      "text/plain": [
       "       matching_num\n",
       "count   2386.000000\n",
       "mean       5.921207\n",
       "std        6.634678\n",
       "min        1.000000\n",
       "25%        1.000000\n",
       "50%        3.000000\n",
       "75%        7.000000\n",
       "max       25.000000"
      ]
     },
     "execution_count": 28,
     "metadata": {},
     "output_type": "execute_result"
    }
   ],
   "source": [
    "analysis_qid2dids(test_qid2dids)"
   ]
  },
  {
   "cell_type": "code",
   "execution_count": 18,
   "metadata": {
    "ExecuteTime": {
     "end_time": "2021-01-26T04:51:11.486183Z",
     "start_time": "2021-01-26T04:51:10.791941Z"
    }
   },
   "outputs": [],
   "source": [
    "train_line_df = transfer2lineDf(train_qid2dids)\n",
    "val_line_df = transfer2lineDf(val_qid2dids)\n",
    "test_line_df = transfer2lineDf(test_qid2dids)"
   ]
  },
  {
   "cell_type": "code",
   "execution_count": 19,
   "metadata": {
    "ExecuteTime": {
     "end_time": "2021-01-26T04:51:30.682001Z",
     "start_time": "2021-01-26T04:51:30.603153Z"
    }
   },
   "outputs": [],
   "source": [
    "val_df = transfer2df(val_qid2dids)\n",
    "test_df = transfer2df(test_qid2dids)"
   ]
  },
  {
   "cell_type": "code",
   "execution_count": 24,
   "metadata": {
    "ExecuteTime": {
     "end_time": "2021-01-26T04:55:35.273026Z",
     "start_time": "2021-01-26T04:55:35.091146Z"
    }
   },
   "outputs": [
    {
     "name": "stdout",
     "output_type": "stream",
     "text": [
      "qids = 8356, dids = 17482, total pairs = 63873, top50 pairs = 55142\n"
     ]
    },
    {
     "data": {
      "text/html": [
       "<div>\n",
       "<style scoped>\n",
       "    .dataframe tbody tr th:only-of-type {\n",
       "        vertical-align: middle;\n",
       "    }\n",
       "\n",
       "    .dataframe tbody tr th {\n",
       "        vertical-align: top;\n",
       "    }\n",
       "\n",
       "    .dataframe thead th {\n",
       "        text-align: right;\n",
       "    }\n",
       "</style>\n",
       "<table border=\"1\" class=\"dataframe\">\n",
       "  <thead>\n",
       "    <tr style=\"text-align: right;\">\n",
       "      <th></th>\n",
       "      <th>qidx</th>\n",
       "      <th>didx</th>\n",
       "      <th>label</th>\n",
       "    </tr>\n",
       "  </thead>\n",
       "  <tbody>\n",
       "    <tr>\n",
       "      <th>count</th>\n",
       "      <td>417800.000000</td>\n",
       "      <td>417800.00000</td>\n",
       "      <td>417800.000000</td>\n",
       "    </tr>\n",
       "    <tr>\n",
       "      <th>mean</th>\n",
       "      <td>6001.999282</td>\n",
       "      <td>12241.55505</td>\n",
       "      <td>0.131982</td>\n",
       "    </tr>\n",
       "    <tr>\n",
       "      <th>std</th>\n",
       "      <td>3466.800540</td>\n",
       "      <td>7278.74103</td>\n",
       "      <td>0.338471</td>\n",
       "    </tr>\n",
       "    <tr>\n",
       "      <th>min</th>\n",
       "      <td>1.000000</td>\n",
       "      <td>0.00000</td>\n",
       "      <td>0.000000</td>\n",
       "    </tr>\n",
       "    <tr>\n",
       "      <th>25%</th>\n",
       "      <td>2885.750000</td>\n",
       "      <td>6728.00000</td>\n",
       "      <td>0.000000</td>\n",
       "    </tr>\n",
       "    <tr>\n",
       "      <th>50%</th>\n",
       "      <td>6247.500000</td>\n",
       "      <td>11594.00000</td>\n",
       "      <td>0.000000</td>\n",
       "    </tr>\n",
       "    <tr>\n",
       "      <th>75%</th>\n",
       "      <td>8931.250000</td>\n",
       "      <td>17954.00000</td>\n",
       "      <td>0.000000</td>\n",
       "    </tr>\n",
       "    <tr>\n",
       "      <th>max</th>\n",
       "      <td>11933.000000</td>\n",
       "      <td>27504.00000</td>\n",
       "      <td>1.000000</td>\n",
       "    </tr>\n",
       "  </tbody>\n",
       "</table>\n",
       "</div>"
      ],
      "text/plain": [
       "                qidx          didx          label\n",
       "count  417800.000000  417800.00000  417800.000000\n",
       "mean     6001.999282   12241.55505       0.131982\n",
       "std      3466.800540    7278.74103       0.338471\n",
       "min         1.000000       0.00000       0.000000\n",
       "25%      2885.750000    6728.00000       0.000000\n",
       "50%      6247.500000   11594.00000       0.000000\n",
       "75%      8931.250000   17954.00000       0.000000\n",
       "max     11933.000000   27504.00000       1.000000"
      ]
     },
     "execution_count": 24,
     "metadata": {},
     "output_type": "execute_result"
    }
   ],
   "source": [
    "analysis_lineDf(train_line_df)"
   ]
  },
  {
   "cell_type": "code",
   "execution_count": 29,
   "metadata": {
    "ExecuteTime": {
     "end_time": "2021-01-26T04:59:55.919958Z",
     "start_time": "2021-01-26T04:59:55.875093Z"
    }
   },
   "outputs": [
    {
     "name": "stdout",
     "output_type": "stream",
     "text": [
      "qids = 1192, dids = 8306, total pairs = 7374, top50 pairs = 6638\n"
     ]
    },
    {
     "data": {
      "text/html": [
       "<div>\n",
       "<style scoped>\n",
       "    .dataframe tbody tr th:only-of-type {\n",
       "        vertical-align: middle;\n",
       "    }\n",
       "\n",
       "    .dataframe tbody tr th {\n",
       "        vertical-align: top;\n",
       "    }\n",
       "\n",
       "    .dataframe thead th {\n",
       "        text-align: right;\n",
       "    }\n",
       "</style>\n",
       "<table border=\"1\" class=\"dataframe\">\n",
       "  <thead>\n",
       "    <tr style=\"text-align: right;\">\n",
       "      <th></th>\n",
       "      <th>qidx</th>\n",
       "      <th>didx</th>\n",
       "      <th>label</th>\n",
       "    </tr>\n",
       "  </thead>\n",
       "  <tbody>\n",
       "    <tr>\n",
       "      <th>count</th>\n",
       "      <td>59600.000000</td>\n",
       "      <td>59600.000000</td>\n",
       "      <td>59600.000000</td>\n",
       "    </tr>\n",
       "    <tr>\n",
       "      <th>mean</th>\n",
       "      <td>5544.696309</td>\n",
       "      <td>11782.188322</td>\n",
       "      <td>0.111376</td>\n",
       "    </tr>\n",
       "    <tr>\n",
       "      <th>std</th>\n",
       "      <td>3227.497234</td>\n",
       "      <td>7280.358121</td>\n",
       "      <td>0.314600</td>\n",
       "    </tr>\n",
       "    <tr>\n",
       "      <th>min</th>\n",
       "      <td>12.000000</td>\n",
       "      <td>1.000000</td>\n",
       "      <td>0.000000</td>\n",
       "    </tr>\n",
       "    <tr>\n",
       "      <th>25%</th>\n",
       "      <td>3145.750000</td>\n",
       "      <td>6125.000000</td>\n",
       "      <td>0.000000</td>\n",
       "    </tr>\n",
       "    <tr>\n",
       "      <th>50%</th>\n",
       "      <td>4886.000000</td>\n",
       "      <td>11157.000000</td>\n",
       "      <td>0.000000</td>\n",
       "    </tr>\n",
       "    <tr>\n",
       "      <th>75%</th>\n",
       "      <td>8388.250000</td>\n",
       "      <td>17181.000000</td>\n",
       "      <td>0.000000</td>\n",
       "    </tr>\n",
       "    <tr>\n",
       "      <th>max</th>\n",
       "      <td>11913.000000</td>\n",
       "      <td>27504.000000</td>\n",
       "      <td>1.000000</td>\n",
       "    </tr>\n",
       "  </tbody>\n",
       "</table>\n",
       "</div>"
      ],
      "text/plain": [
       "               qidx          didx         label\n",
       "count  59600.000000  59600.000000  59600.000000\n",
       "mean    5544.696309  11782.188322      0.111376\n",
       "std     3227.497234   7280.358121      0.314600\n",
       "min       12.000000      1.000000      0.000000\n",
       "25%     3145.750000   6125.000000      0.000000\n",
       "50%     4886.000000  11157.000000      0.000000\n",
       "75%     8388.250000  17181.000000      0.000000\n",
       "max    11913.000000  27504.000000      1.000000"
      ]
     },
     "execution_count": 29,
     "metadata": {},
     "output_type": "execute_result"
    }
   ],
   "source": [
    "analysis_lineDf(val_line_df)"
   ]
  },
  {
   "cell_type": "code",
   "execution_count": 30,
   "metadata": {
    "ExecuteTime": {
     "end_time": "2021-01-26T05:00:02.752529Z",
     "start_time": "2021-01-26T05:00:02.689758Z"
    }
   },
   "outputs": [
    {
     "name": "stdout",
     "output_type": "stream",
     "text": [
      "qids = 2386, dids = 11688, total pairs = 15125, top50 pairs = 14128\n"
     ]
    },
    {
     "data": {
      "text/html": [
       "<div>\n",
       "<style scoped>\n",
       "    .dataframe tbody tr th:only-of-type {\n",
       "        vertical-align: middle;\n",
       "    }\n",
       "\n",
       "    .dataframe tbody tr th {\n",
       "        vertical-align: top;\n",
       "    }\n",
       "\n",
       "    .dataframe thead th {\n",
       "        text-align: right;\n",
       "    }\n",
       "</style>\n",
       "<table border=\"1\" class=\"dataframe\">\n",
       "  <thead>\n",
       "    <tr style=\"text-align: right;\">\n",
       "      <th></th>\n",
       "      <th>qidx</th>\n",
       "      <th>didx</th>\n",
       "      <th>label</th>\n",
       "    </tr>\n",
       "  </thead>\n",
       "  <tbody>\n",
       "    <tr>\n",
       "      <th>count</th>\n",
       "      <td>119300.000000</td>\n",
       "      <td>119300.000000</td>\n",
       "      <td>119300.000000</td>\n",
       "    </tr>\n",
       "    <tr>\n",
       "      <th>mean</th>\n",
       "      <td>6052.903185</td>\n",
       "      <td>12117.785054</td>\n",
       "      <td>0.118424</td>\n",
       "    </tr>\n",
       "    <tr>\n",
       "      <th>std</th>\n",
       "      <td>3459.273897</td>\n",
       "      <td>7294.357713</td>\n",
       "      <td>0.323111</td>\n",
       "    </tr>\n",
       "    <tr>\n",
       "      <th>min</th>\n",
       "      <td>0.000000</td>\n",
       "      <td>0.000000</td>\n",
       "      <td>0.000000</td>\n",
       "    </tr>\n",
       "    <tr>\n",
       "      <th>25%</th>\n",
       "      <td>3121.000000</td>\n",
       "      <td>6737.000000</td>\n",
       "      <td>0.000000</td>\n",
       "    </tr>\n",
       "    <tr>\n",
       "      <th>50%</th>\n",
       "      <td>5592.000000</td>\n",
       "      <td>11431.000000</td>\n",
       "      <td>0.000000</td>\n",
       "    </tr>\n",
       "    <tr>\n",
       "      <th>75%</th>\n",
       "      <td>9161.000000</td>\n",
       "      <td>17772.000000</td>\n",
       "      <td>0.000000</td>\n",
       "    </tr>\n",
       "    <tr>\n",
       "      <th>max</th>\n",
       "      <td>11928.000000</td>\n",
       "      <td>27502.000000</td>\n",
       "      <td>1.000000</td>\n",
       "    </tr>\n",
       "  </tbody>\n",
       "</table>\n",
       "</div>"
      ],
      "text/plain": [
       "                qidx           didx          label\n",
       "count  119300.000000  119300.000000  119300.000000\n",
       "mean     6052.903185   12117.785054       0.118424\n",
       "std      3459.273897    7294.357713       0.323111\n",
       "min         0.000000       0.000000       0.000000\n",
       "25%      3121.000000    6737.000000       0.000000\n",
       "50%      5592.000000   11431.000000       0.000000\n",
       "75%      9161.000000   17772.000000       0.000000\n",
       "max     11928.000000   27502.000000       1.000000"
      ]
     },
     "execution_count": 30,
     "metadata": {},
     "output_type": "execute_result"
    }
   ],
   "source": [
    "analysis_lineDf(test_line_df)"
   ]
  },
  {
   "cell_type": "code",
   "execution_count": 33,
   "metadata": {
    "ExecuteTime": {
     "end_time": "2021-01-26T05:09:14.329698Z",
     "start_time": "2021-01-26T05:09:14.073589Z"
    }
   },
   "outputs": [
    {
     "name": "stdout",
     "output_type": "stream",
     "text": [
      "qids = 11934, dids = 19239, total pairs = 86372, top50 pairs = 75908\n"
     ]
    },
    {
     "data": {
      "text/html": [
       "<div>\n",
       "<style scoped>\n",
       "    .dataframe tbody tr th:only-of-type {\n",
       "        vertical-align: middle;\n",
       "    }\n",
       "\n",
       "    .dataframe tbody tr th {\n",
       "        vertical-align: top;\n",
       "    }\n",
       "\n",
       "    .dataframe thead th {\n",
       "        text-align: right;\n",
       "    }\n",
       "</style>\n",
       "<table border=\"1\" class=\"dataframe\">\n",
       "  <thead>\n",
       "    <tr style=\"text-align: right;\">\n",
       "      <th></th>\n",
       "      <th>qidx</th>\n",
       "      <th>didx</th>\n",
       "      <th>label</th>\n",
       "    </tr>\n",
       "  </thead>\n",
       "  <tbody>\n",
       "    <tr>\n",
       "      <th>count</th>\n",
       "      <td>596700.000000</td>\n",
       "      <td>596700.000000</td>\n",
       "      <td>596700.000000</td>\n",
       "    </tr>\n",
       "    <tr>\n",
       "      <th>mean</th>\n",
       "      <td>5966.500000</td>\n",
       "      <td>12170.926564</td>\n",
       "      <td>0.127213</td>\n",
       "    </tr>\n",
       "    <tr>\n",
       "      <th>std</th>\n",
       "      <td>3445.051931</td>\n",
       "      <td>7283.330112</td>\n",
       "      <td>0.333212</td>\n",
       "    </tr>\n",
       "    <tr>\n",
       "      <th>min</th>\n",
       "      <td>0.000000</td>\n",
       "      <td>0.000000</td>\n",
       "      <td>0.000000</td>\n",
       "    </tr>\n",
       "    <tr>\n",
       "      <th>25%</th>\n",
       "      <td>2983.000000</td>\n",
       "      <td>6662.000000</td>\n",
       "      <td>0.000000</td>\n",
       "    </tr>\n",
       "    <tr>\n",
       "      <th>50%</th>\n",
       "      <td>5966.500000</td>\n",
       "      <td>11513.000000</td>\n",
       "      <td>0.000000</td>\n",
       "    </tr>\n",
       "    <tr>\n",
       "      <th>75%</th>\n",
       "      <td>8950.000000</td>\n",
       "      <td>17867.000000</td>\n",
       "      <td>0.000000</td>\n",
       "    </tr>\n",
       "    <tr>\n",
       "      <th>max</th>\n",
       "      <td>11933.000000</td>\n",
       "      <td>27504.000000</td>\n",
       "      <td>1.000000</td>\n",
       "    </tr>\n",
       "  </tbody>\n",
       "</table>\n",
       "</div>"
      ],
      "text/plain": [
       "                qidx           didx          label\n",
       "count  596700.000000  596700.000000  596700.000000\n",
       "mean     5966.500000   12170.926564       0.127213\n",
       "std      3445.051931    7283.330112       0.333212\n",
       "min         0.000000       0.000000       0.000000\n",
       "25%      2983.000000    6662.000000       0.000000\n",
       "50%      5966.500000   11513.000000       0.000000\n",
       "75%      8950.000000   17867.000000       0.000000\n",
       "max     11933.000000   27504.000000       1.000000"
      ]
     },
     "execution_count": 33,
     "metadata": {},
     "output_type": "execute_result"
    }
   ],
   "source": [
    "analysis_lineDf(pd.concat([train_line_df, val_line_df, test_line_df]))"
   ]
  },
  {
   "cell_type": "code",
   "execution_count": 34,
   "metadata": {
    "ExecuteTime": {
     "end_time": "2021-01-26T05:12:09.371245Z",
     "start_time": "2021-01-26T05:12:08.147510Z"
    }
   },
   "outputs": [],
   "source": [
    "train_line_df.to_csv('./data/data_splits/top50.train.line', index=None, header=None, sep='\\t')\n",
    "val_line_df.to_csv('./data/data_splits/top50.val.line', index=None, header=None, sep='\\t')\n",
    "test_line_df.to_csv('./data/data_splits/top50.test.line', index=None, header=None, sep='\\t')"
   ]
  },
  {
   "cell_type": "code",
   "execution_count": 35,
   "metadata": {
    "ExecuteTime": {
     "end_time": "2021-01-26T05:12:17.780004Z",
     "start_time": "2021-01-26T05:12:17.759550Z"
    }
   },
   "outputs": [
    {
     "data": {
      "text/html": [
       "<div>\n",
       "<style scoped>\n",
       "    .dataframe tbody tr th:only-of-type {\n",
       "        vertical-align: middle;\n",
       "    }\n",
       "\n",
       "    .dataframe tbody tr th {\n",
       "        vertical-align: top;\n",
       "    }\n",
       "\n",
       "    .dataframe thead th {\n",
       "        text-align: right;\n",
       "    }\n",
       "</style>\n",
       "<table border=\"1\" class=\"dataframe\">\n",
       "  <thead>\n",
       "    <tr style=\"text-align: right;\">\n",
       "      <th></th>\n",
       "      <th>qid</th>\n",
       "      <th>qidx</th>\n",
       "      <th>did</th>\n",
       "      <th>didx</th>\n",
       "      <th>label</th>\n",
       "    </tr>\n",
       "  </thead>\n",
       "  <tbody>\n",
       "    <tr>\n",
       "      <th>0</th>\n",
       "      <td>5f0ed06ada7c229f16a55c17</td>\n",
       "      <td>12</td>\n",
       "      <td>[5f0c71f1efe4e78f5b003532, 5f0c71f1efe4e78f5b0...</td>\n",
       "      <td>[338, 309, 190, 7061, 27006, 16677, 14492, 245...</td>\n",
       "      <td>[1, 1, 1, 0, 0, 0, 0, 0, 0, 0, 0, 0, 0, 0, 0, ...</td>\n",
       "    </tr>\n",
       "    <tr>\n",
       "      <th>1</th>\n",
       "      <td>5f0ed06ada7c229f16a55c1d</td>\n",
       "      <td>18</td>\n",
       "      <td>[5f0c71f1efe4e78f5b003532, 5f0c71f1efe4e78f5b0...</td>\n",
       "      <td>[338, 309, 190, 1203, 20158, 14492, 27006, 18,...</td>\n",
       "      <td>[1, 1, 1, 0, 0, 0, 0, 0, 0, 0, 0, 0, 0, 0, 0, ...</td>\n",
       "    </tr>\n",
       "    <tr>\n",
       "      <th>2</th>\n",
       "      <td>5f0ed06ada7c229f16a55c1c</td>\n",
       "      <td>24</td>\n",
       "      <td>[5f0c71f1efe4e78f5b003532, 5f0c71f1efe4e78f5b0...</td>\n",
       "      <td>[338, 309, 190, 9233, 11057, 14701, 9057, 9229...</td>\n",
       "      <td>[1, 1, 1, 0, 0, 0, 0, 0, 0, 0, 0, 0, 0, 0, 0, ...</td>\n",
       "    </tr>\n",
       "    <tr>\n",
       "      <th>3</th>\n",
       "      <td>5f0ed040da7c229f16a51432</td>\n",
       "      <td>51</td>\n",
       "      <td>[5f61d4bd11c8070a282e796e, 5f61d4bd11c8070a282...</td>\n",
       "      <td>[66, 68, 69, 11046, 11385, 26092, 10768, 9571,...</td>\n",
       "      <td>[1, 1, 1, 0, 0, 0, 0, 0, 0, 0, 0, 0, 0, 0, 0, ...</td>\n",
       "    </tr>\n",
       "    <tr>\n",
       "      <th>4</th>\n",
       "      <td>5f0ed06ada7c229f16a55c1b</td>\n",
       "      <td>148</td>\n",
       "      <td>[5f0c71f1efe4e78f5b003532, 5f0c71f1efe4e78f5b0...</td>\n",
       "      <td>[338, 309, 190, 20500, 27261, 11388, 17329, 96...</td>\n",
       "      <td>[1, 1, 1, 0, 0, 0, 0, 0, 0, 0, 0, 0, 0, 0, 0, ...</td>\n",
       "    </tr>\n",
       "  </tbody>\n",
       "</table>\n",
       "</div>"
      ],
      "text/plain": [
       "                        qid  qidx  \\\n",
       "0  5f0ed06ada7c229f16a55c17    12   \n",
       "1  5f0ed06ada7c229f16a55c1d    18   \n",
       "2  5f0ed06ada7c229f16a55c1c    24   \n",
       "3  5f0ed040da7c229f16a51432    51   \n",
       "4  5f0ed06ada7c229f16a55c1b   148   \n",
       "\n",
       "                                                 did  \\\n",
       "0  [5f0c71f1efe4e78f5b003532, 5f0c71f1efe4e78f5b0...   \n",
       "1  [5f0c71f1efe4e78f5b003532, 5f0c71f1efe4e78f5b0...   \n",
       "2  [5f0c71f1efe4e78f5b003532, 5f0c71f1efe4e78f5b0...   \n",
       "3  [5f61d4bd11c8070a282e796e, 5f61d4bd11c8070a282...   \n",
       "4  [5f0c71f1efe4e78f5b003532, 5f0c71f1efe4e78f5b0...   \n",
       "\n",
       "                                                didx  \\\n",
       "0  [338, 309, 190, 7061, 27006, 16677, 14492, 245...   \n",
       "1  [338, 309, 190, 1203, 20158, 14492, 27006, 18,...   \n",
       "2  [338, 309, 190, 9233, 11057, 14701, 9057, 9229...   \n",
       "3  [66, 68, 69, 11046, 11385, 26092, 10768, 9571,...   \n",
       "4  [338, 309, 190, 20500, 27261, 11388, 17329, 96...   \n",
       "\n",
       "                                               label  \n",
       "0  [1, 1, 1, 0, 0, 0, 0, 0, 0, 0, 0, 0, 0, 0, 0, ...  \n",
       "1  [1, 1, 1, 0, 0, 0, 0, 0, 0, 0, 0, 0, 0, 0, 0, ...  \n",
       "2  [1, 1, 1, 0, 0, 0, 0, 0, 0, 0, 0, 0, 0, 0, 0, ...  \n",
       "3  [1, 1, 1, 0, 0, 0, 0, 0, 0, 0, 0, 0, 0, 0, 0, ...  \n",
       "4  [1, 1, 1, 0, 0, 0, 0, 0, 0, 0, 0, 0, 0, 0, 0, ...  "
      ]
     },
     "execution_count": 35,
     "metadata": {},
     "output_type": "execute_result"
    }
   ],
   "source": [
    "val_df.head()"
   ]
  },
  {
   "cell_type": "code",
   "execution_count": 36,
   "metadata": {
    "ExecuteTime": {
     "end_time": "2021-01-26T05:12:26.217196Z",
     "start_time": "2021-01-26T05:12:26.196108Z"
    }
   },
   "outputs": [
    {
     "data": {
      "text/html": [
       "<div>\n",
       "<style scoped>\n",
       "    .dataframe tbody tr th:only-of-type {\n",
       "        vertical-align: middle;\n",
       "    }\n",
       "\n",
       "    .dataframe tbody tr th {\n",
       "        vertical-align: top;\n",
       "    }\n",
       "\n",
       "    .dataframe thead th {\n",
       "        text-align: right;\n",
       "    }\n",
       "</style>\n",
       "<table border=\"1\" class=\"dataframe\">\n",
       "  <thead>\n",
       "    <tr style=\"text-align: right;\">\n",
       "      <th></th>\n",
       "      <th>qid</th>\n",
       "      <th>qidx</th>\n",
       "      <th>did</th>\n",
       "      <th>didx</th>\n",
       "      <th>label</th>\n",
       "    </tr>\n",
       "  </thead>\n",
       "  <tbody>\n",
       "    <tr>\n",
       "      <th>0</th>\n",
       "      <td>5f0ed06ada7c229f16a54452</td>\n",
       "      <td>0</td>\n",
       "      <td>[6002d4fbbc9086321270c5dc, 5ff55038c60dfb55fc5...</td>\n",
       "      <td>[19, 21, 8931, 17396, 6883, 13539, 11103, 9365...</td>\n",
       "      <td>[1, 0, 0, 0, 0, 0, 0, 0, 0, 0, 0, 0, 0, 0, 0, ...</td>\n",
       "    </tr>\n",
       "    <tr>\n",
       "      <th>1</th>\n",
       "      <td>5f0ed06ada7c229f16a53f06</td>\n",
       "      <td>2</td>\n",
       "      <td>[5fe5acd511f159c49f84b00e, 5fe5acd511f159c49f8...</td>\n",
       "      <td>[24, 29, 25, 26, 27, 91, 22, 17, 18, 3180, 543...</td>\n",
       "      <td>[1, 1, 1, 1, 1, 1, 0, 0, 0, 0, 0, 0, 0, 0, 0, ...</td>\n",
       "    </tr>\n",
       "    <tr>\n",
       "      <th>2</th>\n",
       "      <td>5f0ed06ada7c229f16a542cb</td>\n",
       "      <td>5</td>\n",
       "      <td>[5fef252111f159c49f84b0f9, 5fef252111f159c49f8...</td>\n",
       "      <td>[37, 30, 31, 49, 19315, 20021, 184, 9837, 3180...</td>\n",
       "      <td>[1, 1, 1, 0, 0, 0, 0, 0, 0, 0, 0, 0, 0, 0, 0, ...</td>\n",
       "    </tr>\n",
       "    <tr>\n",
       "      <th>3</th>\n",
       "      <td>5f0ed06ada7c229f16a55040</td>\n",
       "      <td>15</td>\n",
       "      <td>[5f0c71f1efe4e78f5b002ef5, 5f2ea72f8d1bbb4d114...</td>\n",
       "      <td>[129, 17301, 11733, 2923, 17956, 19748, 14283,...</td>\n",
       "      <td>[1, 0, 0, 0, 0, 0, 0, 0, 0, 0, 0, 0, 0, 0, 0, ...</td>\n",
       "    </tr>\n",
       "    <tr>\n",
       "      <th>4</th>\n",
       "      <td>5f0ed040da7c229f16a524f2</td>\n",
       "      <td>30</td>\n",
       "      <td>[5f62cacffff4579430a77648, 5f1172acb9cce3edf31...</td>\n",
       "      <td>[64, 11139, 1257, 1245, 737, 1598, 8225, 440, ...</td>\n",
       "      <td>[1, 0, 0, 0, 0, 0, 0, 0, 0, 0, 0, 0, 0, 0, 0, ...</td>\n",
       "    </tr>\n",
       "  </tbody>\n",
       "</table>\n",
       "</div>"
      ],
      "text/plain": [
       "                        qid  qidx  \\\n",
       "0  5f0ed06ada7c229f16a54452     0   \n",
       "1  5f0ed06ada7c229f16a53f06     2   \n",
       "2  5f0ed06ada7c229f16a542cb     5   \n",
       "3  5f0ed06ada7c229f16a55040    15   \n",
       "4  5f0ed040da7c229f16a524f2    30   \n",
       "\n",
       "                                                 did  \\\n",
       "0  [6002d4fbbc9086321270c5dc, 5ff55038c60dfb55fc5...   \n",
       "1  [5fe5acd511f159c49f84b00e, 5fe5acd511f159c49f8...   \n",
       "2  [5fef252111f159c49f84b0f9, 5fef252111f159c49f8...   \n",
       "3  [5f0c71f1efe4e78f5b002ef5, 5f2ea72f8d1bbb4d114...   \n",
       "4  [5f62cacffff4579430a77648, 5f1172acb9cce3edf31...   \n",
       "\n",
       "                                                didx  \\\n",
       "0  [19, 21, 8931, 17396, 6883, 13539, 11103, 9365...   \n",
       "1  [24, 29, 25, 26, 27, 91, 22, 17, 18, 3180, 543...   \n",
       "2  [37, 30, 31, 49, 19315, 20021, 184, 9837, 3180...   \n",
       "3  [129, 17301, 11733, 2923, 17956, 19748, 14283,...   \n",
       "4  [64, 11139, 1257, 1245, 737, 1598, 8225, 440, ...   \n",
       "\n",
       "                                               label  \n",
       "0  [1, 0, 0, 0, 0, 0, 0, 0, 0, 0, 0, 0, 0, 0, 0, ...  \n",
       "1  [1, 1, 1, 1, 1, 1, 0, 0, 0, 0, 0, 0, 0, 0, 0, ...  \n",
       "2  [1, 1, 1, 0, 0, 0, 0, 0, 0, 0, 0, 0, 0, 0, 0, ...  \n",
       "3  [1, 0, 0, 0, 0, 0, 0, 0, 0, 0, 0, 0, 0, 0, 0, ...  \n",
       "4  [1, 0, 0, 0, 0, 0, 0, 0, 0, 0, 0, 0, 0, 0, 0, ...  "
      ]
     },
     "execution_count": 36,
     "metadata": {},
     "output_type": "execute_result"
    }
   ],
   "source": [
    "test_df.head()"
   ]
  },
  {
   "cell_type": "code",
   "execution_count": 37,
   "metadata": {
    "ExecuteTime": {
     "end_time": "2021-01-26T05:12:54.385896Z",
     "start_time": "2021-01-26T05:12:54.210003Z"
    }
   },
   "outputs": [],
   "source": [
    "val_df.to_csv('./data/data_splits/top50.val',\n",
    "              index=None, header=None, sep='\\t')\n",
    "test_df.to_csv('./data/data_splits/top50.test',\n",
    "               index=None, header=None, sep='\\t')"
   ]
  },
  {
   "cell_type": "markdown",
   "metadata": {},
   "source": [
    "## setting2: 尽可能遵循bm25的结果，最多添加1个正例"
   ]
  },
  {
   "cell_type": "code",
   "execution_count": 17,
   "metadata": {
    "ExecuteTime": {
     "end_time": "2021-01-26T12:49:54.574100Z",
     "start_time": "2021-01-26T12:49:54.568014Z"
    }
   },
   "outputs": [
    {
     "data": {
      "text/plain": [
       "array([147.65676972, 175.41249475, 152.70300736, ..., 147.03297213,\n",
       "       175.86724546, 150.45702979])"
      ]
     },
     "execution_count": 17,
     "metadata": {},
     "output_type": "execute_result"
    }
   ],
   "source": [
    "bm25_arr[0]"
   ]
  },
  {
   "cell_type": "code",
   "execution_count": 18,
   "metadata": {
    "ExecuteTime": {
     "end_time": "2021-01-26T12:55:49.201560Z",
     "start_time": "2021-01-26T12:55:49.188037Z"
    }
   },
   "outputs": [],
   "source": [
    "def get_dids_from_qids(qids, TOP=50):\n",
    "    qid2dids = dict()\n",
    "\n",
    "    for qid in tqdm(qids):\n",
    "        # First: select top50 candidates\n",
    "        scores = bm25_arr[fnOid2idx[qid]]\n",
    "        scores_rank = scores.argsort()[::-1]\n",
    "        candidates = [DN[r]['_id'] for r in scores_rank[:TOP]]\n",
    "        \n",
    "        debunking_ids = fnOid2item[qid]['debunking_ids']\n",
    "        \n",
    "        # top50 do not contain any positives\n",
    "        if len(set(candidates).intersection(set(debunking_ids))) == 0:\n",
    "            for r in scores_rank[TOP:]:\n",
    "                did = DN[r]['_id']\n",
    "                if did in debunking_ids:\n",
    "                    candidates[-1] = did\n",
    "                    # 注意：此处在acl投稿时忘记了加break...\n",
    "#                     break\n",
    "\n",
    "        qid2dids[qid] = candidates\n",
    "\n",
    "    print(len(qid2dids), len(qid2dids)*50,\n",
    "          sum([len(v) for v in qid2dids.values()]))\n",
    "    print()\n",
    "\n",
    "    return qid2dids"
   ]
  },
  {
   "cell_type": "code",
   "execution_count": 19,
   "metadata": {
    "ExecuteTime": {
     "end_time": "2021-01-26T12:57:05.828183Z",
     "start_time": "2021-01-26T12:56:19.123017Z"
    }
   },
   "outputs": [
    {
     "name": "stderr",
     "output_type": "stream",
     "text": [
      "100%|██████████| 8356/8356 [00:32<00:00, 258.56it/s]\n",
      "  2%|▏         | 18/1192 [00:00<00:06, 173.16it/s]"
     ]
    },
    {
     "name": "stdout",
     "output_type": "stream",
     "text": [
      "8356 417800 417800\n",
      "\n"
     ]
    },
    {
     "name": "stderr",
     "output_type": "stream",
     "text": [
      "100%|██████████| 1192/1192 [00:05<00:00, 218.14it/s]\n",
      "  1%|          | 24/2386 [00:00<00:10, 235.04it/s]"
     ]
    },
    {
     "name": "stdout",
     "output_type": "stream",
     "text": [
      "1192 59600 59600\n",
      "\n"
     ]
    },
    {
     "name": "stderr",
     "output_type": "stream",
     "text": [
      "100%|██████████| 2386/2386 [00:08<00:00, 267.88it/s]"
     ]
    },
    {
     "name": "stdout",
     "output_type": "stream",
     "text": [
      "2386 119300 119300\n",
      "\n"
     ]
    },
    {
     "name": "stderr",
     "output_type": "stream",
     "text": [
      "\n"
     ]
    }
   ],
   "source": [
    "train_qid2dids = get_dids_from_qids(qids=train_qids)\n",
    "val_qid2dids = get_dids_from_qids(qids=val_qids)\n",
    "test_qid2dids = get_dids_from_qids(qids=test_qids)"
   ]
  },
  {
   "cell_type": "code",
   "execution_count": 20,
   "metadata": {
    "ExecuteTime": {
     "end_time": "2021-01-26T12:57:09.642925Z",
     "start_time": "2021-01-26T12:57:09.561786Z"
    }
   },
   "outputs": [
    {
     "data": {
      "text/html": [
       "<div>\n",
       "<style scoped>\n",
       "    .dataframe tbody tr th:only-of-type {\n",
       "        vertical-align: middle;\n",
       "    }\n",
       "\n",
       "    .dataframe tbody tr th {\n",
       "        vertical-align: top;\n",
       "    }\n",
       "\n",
       "    .dataframe thead th {\n",
       "        text-align: right;\n",
       "    }\n",
       "</style>\n",
       "<table border=\"1\" class=\"dataframe\">\n",
       "  <thead>\n",
       "    <tr style=\"text-align: right;\">\n",
       "      <th></th>\n",
       "      <th>matching_num</th>\n",
       "    </tr>\n",
       "  </thead>\n",
       "  <tbody>\n",
       "    <tr>\n",
       "      <th>count</th>\n",
       "      <td>8356.000000</td>\n",
       "    </tr>\n",
       "    <tr>\n",
       "      <th>mean</th>\n",
       "      <td>3.422212</td>\n",
       "    </tr>\n",
       "    <tr>\n",
       "      <th>std</th>\n",
       "      <td>4.464883</td>\n",
       "    </tr>\n",
       "    <tr>\n",
       "      <th>min</th>\n",
       "      <td>1.000000</td>\n",
       "    </tr>\n",
       "    <tr>\n",
       "      <th>25%</th>\n",
       "      <td>1.000000</td>\n",
       "    </tr>\n",
       "    <tr>\n",
       "      <th>50%</th>\n",
       "      <td>2.000000</td>\n",
       "    </tr>\n",
       "    <tr>\n",
       "      <th>75%</th>\n",
       "      <td>4.000000</td>\n",
       "    </tr>\n",
       "    <tr>\n",
       "      <th>max</th>\n",
       "      <td>50.000000</td>\n",
       "    </tr>\n",
       "  </tbody>\n",
       "</table>\n",
       "</div>"
      ],
      "text/plain": [
       "       matching_num\n",
       "count   8356.000000\n",
       "mean       3.422212\n",
       "std        4.464883\n",
       "min        1.000000\n",
       "25%        1.000000\n",
       "50%        2.000000\n",
       "75%        4.000000\n",
       "max       50.000000"
      ]
     },
     "execution_count": 20,
     "metadata": {},
     "output_type": "execute_result"
    }
   ],
   "source": [
    "analysis_qid2dids(train_qid2dids)"
   ]
  },
  {
   "cell_type": "code",
   "execution_count": 21,
   "metadata": {
    "ExecuteTime": {
     "end_time": "2021-01-26T12:57:20.742277Z",
     "start_time": "2021-01-26T12:57:20.721482Z"
    }
   },
   "outputs": [
    {
     "data": {
      "text/html": [
       "<div>\n",
       "<style scoped>\n",
       "    .dataframe tbody tr th:only-of-type {\n",
       "        vertical-align: middle;\n",
       "    }\n",
       "\n",
       "    .dataframe tbody tr th {\n",
       "        vertical-align: top;\n",
       "    }\n",
       "\n",
       "    .dataframe thead th {\n",
       "        text-align: right;\n",
       "    }\n",
       "</style>\n",
       "<table border=\"1\" class=\"dataframe\">\n",
       "  <thead>\n",
       "    <tr style=\"text-align: right;\">\n",
       "      <th></th>\n",
       "      <th>matching_num</th>\n",
       "    </tr>\n",
       "  </thead>\n",
       "  <tbody>\n",
       "    <tr>\n",
       "      <th>count</th>\n",
       "      <td>1192.000000</td>\n",
       "    </tr>\n",
       "    <tr>\n",
       "      <th>mean</th>\n",
       "      <td>2.799497</td>\n",
       "    </tr>\n",
       "    <tr>\n",
       "      <th>std</th>\n",
       "      <td>3.271263</td>\n",
       "    </tr>\n",
       "    <tr>\n",
       "      <th>min</th>\n",
       "      <td>1.000000</td>\n",
       "    </tr>\n",
       "    <tr>\n",
       "      <th>25%</th>\n",
       "      <td>1.000000</td>\n",
       "    </tr>\n",
       "    <tr>\n",
       "      <th>50%</th>\n",
       "      <td>1.000000</td>\n",
       "    </tr>\n",
       "    <tr>\n",
       "      <th>75%</th>\n",
       "      <td>3.000000</td>\n",
       "    </tr>\n",
       "    <tr>\n",
       "      <th>max</th>\n",
       "      <td>18.000000</td>\n",
       "    </tr>\n",
       "  </tbody>\n",
       "</table>\n",
       "</div>"
      ],
      "text/plain": [
       "       matching_num\n",
       "count   1192.000000\n",
       "mean       2.799497\n",
       "std        3.271263\n",
       "min        1.000000\n",
       "25%        1.000000\n",
       "50%        1.000000\n",
       "75%        3.000000\n",
       "max       18.000000"
      ]
     },
     "execution_count": 21,
     "metadata": {},
     "output_type": "execute_result"
    }
   ],
   "source": [
    "analysis_qid2dids(val_qid2dids)"
   ]
  },
  {
   "cell_type": "code",
   "execution_count": 22,
   "metadata": {
    "ExecuteTime": {
     "end_time": "2021-01-26T12:57:54.999523Z",
     "start_time": "2021-01-26T12:57:54.974223Z"
    }
   },
   "outputs": [
    {
     "data": {
      "text/html": [
       "<div>\n",
       "<style scoped>\n",
       "    .dataframe tbody tr th:only-of-type {\n",
       "        vertical-align: middle;\n",
       "    }\n",
       "\n",
       "    .dataframe tbody tr th {\n",
       "        vertical-align: top;\n",
       "    }\n",
       "\n",
       "    .dataframe thead th {\n",
       "        text-align: right;\n",
       "    }\n",
       "</style>\n",
       "<table border=\"1\" class=\"dataframe\">\n",
       "  <thead>\n",
       "    <tr style=\"text-align: right;\">\n",
       "      <th></th>\n",
       "      <th>matching_num</th>\n",
       "    </tr>\n",
       "  </thead>\n",
       "  <tbody>\n",
       "    <tr>\n",
       "      <th>count</th>\n",
       "      <td>2386.000000</td>\n",
       "    </tr>\n",
       "    <tr>\n",
       "      <th>mean</th>\n",
       "      <td>3.036463</td>\n",
       "    </tr>\n",
       "    <tr>\n",
       "      <th>std</th>\n",
       "      <td>3.568193</td>\n",
       "    </tr>\n",
       "    <tr>\n",
       "      <th>min</th>\n",
       "      <td>1.000000</td>\n",
       "    </tr>\n",
       "    <tr>\n",
       "      <th>25%</th>\n",
       "      <td>1.000000</td>\n",
       "    </tr>\n",
       "    <tr>\n",
       "      <th>50%</th>\n",
       "      <td>2.000000</td>\n",
       "    </tr>\n",
       "    <tr>\n",
       "      <th>75%</th>\n",
       "      <td>4.000000</td>\n",
       "    </tr>\n",
       "    <tr>\n",
       "      <th>max</th>\n",
       "      <td>32.000000</td>\n",
       "    </tr>\n",
       "  </tbody>\n",
       "</table>\n",
       "</div>"
      ],
      "text/plain": [
       "       matching_num\n",
       "count   2386.000000\n",
       "mean       3.036463\n",
       "std        3.568193\n",
       "min        1.000000\n",
       "25%        1.000000\n",
       "50%        2.000000\n",
       "75%        4.000000\n",
       "max       32.000000"
      ]
     },
     "execution_count": 22,
     "metadata": {},
     "output_type": "execute_result"
    }
   ],
   "source": [
    "analysis_qid2dids(test_qid2dids)"
   ]
  },
  {
   "cell_type": "code",
   "execution_count": 23,
   "metadata": {
    "ExecuteTime": {
     "end_time": "2021-01-26T12:58:42.051489Z",
     "start_time": "2021-01-26T12:58:41.447914Z"
    }
   },
   "outputs": [],
   "source": [
    "train_line_df = transfer2lineDf(train_qid2dids)\n",
    "val_line_df = transfer2lineDf(val_qid2dids)\n",
    "test_line_df = transfer2lineDf(test_qid2dids)"
   ]
  },
  {
   "cell_type": "code",
   "execution_count": 24,
   "metadata": {
    "ExecuteTime": {
     "end_time": "2021-01-26T12:58:42.764560Z",
     "start_time": "2021-01-26T12:58:42.684725Z"
    }
   },
   "outputs": [],
   "source": [
    "val_df = transfer2df(val_qid2dids)\n",
    "test_df = transfer2df(test_qid2dids)"
   ]
  },
  {
   "cell_type": "code",
   "execution_count": 25,
   "metadata": {
    "ExecuteTime": {
     "end_time": "2021-01-26T12:58:43.685243Z",
     "start_time": "2021-01-26T12:58:43.572908Z"
    }
   },
   "outputs": [
    {
     "name": "stdout",
     "output_type": "stream",
     "text": [
      "qids = 8356, dids = 17385, total pairs = 63873, top50 pairs = 28596\n"
     ]
    },
    {
     "data": {
      "text/html": [
       "<div>\n",
       "<style scoped>\n",
       "    .dataframe tbody tr th:only-of-type {\n",
       "        vertical-align: middle;\n",
       "    }\n",
       "\n",
       "    .dataframe tbody tr th {\n",
       "        vertical-align: top;\n",
       "    }\n",
       "\n",
       "    .dataframe thead th {\n",
       "        text-align: right;\n",
       "    }\n",
       "</style>\n",
       "<table border=\"1\" class=\"dataframe\">\n",
       "  <thead>\n",
       "    <tr style=\"text-align: right;\">\n",
       "      <th></th>\n",
       "      <th>qidx</th>\n",
       "      <th>didx</th>\n",
       "      <th>label</th>\n",
       "    </tr>\n",
       "  </thead>\n",
       "  <tbody>\n",
       "    <tr>\n",
       "      <th>count</th>\n",
       "      <td>417800.000000</td>\n",
       "      <td>417800.000000</td>\n",
       "      <td>417800.000000</td>\n",
       "    </tr>\n",
       "    <tr>\n",
       "      <th>mean</th>\n",
       "      <td>6001.999282</td>\n",
       "      <td>12253.957738</td>\n",
       "      <td>0.068444</td>\n",
       "    </tr>\n",
       "    <tr>\n",
       "      <th>std</th>\n",
       "      <td>3466.800540</td>\n",
       "      <td>7264.769062</td>\n",
       "      <td>0.252507</td>\n",
       "    </tr>\n",
       "    <tr>\n",
       "      <th>min</th>\n",
       "      <td>1.000000</td>\n",
       "      <td>0.000000</td>\n",
       "      <td>0.000000</td>\n",
       "    </tr>\n",
       "    <tr>\n",
       "      <th>25%</th>\n",
       "      <td>2885.750000</td>\n",
       "      <td>6773.000000</td>\n",
       "      <td>0.000000</td>\n",
       "    </tr>\n",
       "    <tr>\n",
       "      <th>50%</th>\n",
       "      <td>6247.500000</td>\n",
       "      <td>11580.000000</td>\n",
       "      <td>0.000000</td>\n",
       "    </tr>\n",
       "    <tr>\n",
       "      <th>75%</th>\n",
       "      <td>8931.250000</td>\n",
       "      <td>17954.000000</td>\n",
       "      <td>0.000000</td>\n",
       "    </tr>\n",
       "    <tr>\n",
       "      <th>max</th>\n",
       "      <td>11933.000000</td>\n",
       "      <td>27504.000000</td>\n",
       "      <td>1.000000</td>\n",
       "    </tr>\n",
       "  </tbody>\n",
       "</table>\n",
       "</div>"
      ],
      "text/plain": [
       "                qidx           didx          label\n",
       "count  417800.000000  417800.000000  417800.000000\n",
       "mean     6001.999282   12253.957738       0.068444\n",
       "std      3466.800540    7264.769062       0.252507\n",
       "min         1.000000       0.000000       0.000000\n",
       "25%      2885.750000    6773.000000       0.000000\n",
       "50%      6247.500000   11580.000000       0.000000\n",
       "75%      8931.250000   17954.000000       0.000000\n",
       "max     11933.000000   27504.000000       1.000000"
      ]
     },
     "execution_count": 25,
     "metadata": {},
     "output_type": "execute_result"
    }
   ],
   "source": [
    "analysis_lineDf(train_line_df)"
   ]
  },
  {
   "cell_type": "code",
   "execution_count": 26,
   "metadata": {
    "ExecuteTime": {
     "end_time": "2021-01-26T12:58:45.103614Z",
     "start_time": "2021-01-26T12:58:45.071614Z"
    }
   },
   "outputs": [
    {
     "name": "stdout",
     "output_type": "stream",
     "text": [
      "qids = 1192, dids = 8353, total pairs = 7374, top50 pairs = 3337\n"
     ]
    },
    {
     "data": {
      "text/html": [
       "<div>\n",
       "<style scoped>\n",
       "    .dataframe tbody tr th:only-of-type {\n",
       "        vertical-align: middle;\n",
       "    }\n",
       "\n",
       "    .dataframe tbody tr th {\n",
       "        vertical-align: top;\n",
       "    }\n",
       "\n",
       "    .dataframe thead th {\n",
       "        text-align: right;\n",
       "    }\n",
       "</style>\n",
       "<table border=\"1\" class=\"dataframe\">\n",
       "  <thead>\n",
       "    <tr style=\"text-align: right;\">\n",
       "      <th></th>\n",
       "      <th>qidx</th>\n",
       "      <th>didx</th>\n",
       "      <th>label</th>\n",
       "    </tr>\n",
       "  </thead>\n",
       "  <tbody>\n",
       "    <tr>\n",
       "      <th>count</th>\n",
       "      <td>59600.000000</td>\n",
       "      <td>59600.000000</td>\n",
       "      <td>59600.000000</td>\n",
       "    </tr>\n",
       "    <tr>\n",
       "      <th>mean</th>\n",
       "      <td>5544.696309</td>\n",
       "      <td>11975.893909</td>\n",
       "      <td>0.055990</td>\n",
       "    </tr>\n",
       "    <tr>\n",
       "      <th>std</th>\n",
       "      <td>3227.497234</td>\n",
       "      <td>7298.715065</td>\n",
       "      <td>0.229904</td>\n",
       "    </tr>\n",
       "    <tr>\n",
       "      <th>min</th>\n",
       "      <td>12.000000</td>\n",
       "      <td>1.000000</td>\n",
       "      <td>0.000000</td>\n",
       "    </tr>\n",
       "    <tr>\n",
       "      <th>25%</th>\n",
       "      <td>3145.750000</td>\n",
       "      <td>6330.000000</td>\n",
       "      <td>0.000000</td>\n",
       "    </tr>\n",
       "    <tr>\n",
       "      <th>50%</th>\n",
       "      <td>4886.000000</td>\n",
       "      <td>11355.000000</td>\n",
       "      <td>0.000000</td>\n",
       "    </tr>\n",
       "    <tr>\n",
       "      <th>75%</th>\n",
       "      <td>8388.250000</td>\n",
       "      <td>17418.000000</td>\n",
       "      <td>0.000000</td>\n",
       "    </tr>\n",
       "    <tr>\n",
       "      <th>max</th>\n",
       "      <td>11913.000000</td>\n",
       "      <td>27504.000000</td>\n",
       "      <td>1.000000</td>\n",
       "    </tr>\n",
       "  </tbody>\n",
       "</table>\n",
       "</div>"
      ],
      "text/plain": [
       "               qidx          didx         label\n",
       "count  59600.000000  59600.000000  59600.000000\n",
       "mean    5544.696309  11975.893909      0.055990\n",
       "std     3227.497234   7298.715065      0.229904\n",
       "min       12.000000      1.000000      0.000000\n",
       "25%     3145.750000   6330.000000      0.000000\n",
       "50%     4886.000000  11355.000000      0.000000\n",
       "75%     8388.250000  17418.000000      0.000000\n",
       "max    11913.000000  27504.000000      1.000000"
      ]
     },
     "execution_count": 26,
     "metadata": {},
     "output_type": "execute_result"
    }
   ],
   "source": [
    "analysis_lineDf(val_line_df)"
   ]
  },
  {
   "cell_type": "code",
   "execution_count": 27,
   "metadata": {
    "ExecuteTime": {
     "end_time": "2021-01-26T12:58:46.358628Z",
     "start_time": "2021-01-26T12:58:46.310648Z"
    }
   },
   "outputs": [
    {
     "name": "stdout",
     "output_type": "stream",
     "text": [
      "qids = 2386, dids = 11715, total pairs = 15125, top50 pairs = 7245\n"
     ]
    },
    {
     "data": {
      "text/html": [
       "<div>\n",
       "<style scoped>\n",
       "    .dataframe tbody tr th:only-of-type {\n",
       "        vertical-align: middle;\n",
       "    }\n",
       "\n",
       "    .dataframe tbody tr th {\n",
       "        vertical-align: top;\n",
       "    }\n",
       "\n",
       "    .dataframe thead th {\n",
       "        text-align: right;\n",
       "    }\n",
       "</style>\n",
       "<table border=\"1\" class=\"dataframe\">\n",
       "  <thead>\n",
       "    <tr style=\"text-align: right;\">\n",
       "      <th></th>\n",
       "      <th>qidx</th>\n",
       "      <th>didx</th>\n",
       "      <th>label</th>\n",
       "    </tr>\n",
       "  </thead>\n",
       "  <tbody>\n",
       "    <tr>\n",
       "      <th>count</th>\n",
       "      <td>119300.000000</td>\n",
       "      <td>119300.000000</td>\n",
       "      <td>119300.000000</td>\n",
       "    </tr>\n",
       "    <tr>\n",
       "      <th>mean</th>\n",
       "      <td>6052.903185</td>\n",
       "      <td>12187.515331</td>\n",
       "      <td>0.060729</td>\n",
       "    </tr>\n",
       "    <tr>\n",
       "      <th>std</th>\n",
       "      <td>3459.273897</td>\n",
       "      <td>7329.480866</td>\n",
       "      <td>0.238834</td>\n",
       "    </tr>\n",
       "    <tr>\n",
       "      <th>min</th>\n",
       "      <td>0.000000</td>\n",
       "      <td>0.000000</td>\n",
       "      <td>0.000000</td>\n",
       "    </tr>\n",
       "    <tr>\n",
       "      <th>25%</th>\n",
       "      <td>3121.000000</td>\n",
       "      <td>6684.000000</td>\n",
       "      <td>0.000000</td>\n",
       "    </tr>\n",
       "    <tr>\n",
       "      <th>50%</th>\n",
       "      <td>5592.000000</td>\n",
       "      <td>11500.000000</td>\n",
       "      <td>0.000000</td>\n",
       "    </tr>\n",
       "    <tr>\n",
       "      <th>75%</th>\n",
       "      <td>9161.000000</td>\n",
       "      <td>17931.250000</td>\n",
       "      <td>0.000000</td>\n",
       "    </tr>\n",
       "    <tr>\n",
       "      <th>max</th>\n",
       "      <td>11928.000000</td>\n",
       "      <td>27503.000000</td>\n",
       "      <td>1.000000</td>\n",
       "    </tr>\n",
       "  </tbody>\n",
       "</table>\n",
       "</div>"
      ],
      "text/plain": [
       "                qidx           didx          label\n",
       "count  119300.000000  119300.000000  119300.000000\n",
       "mean     6052.903185   12187.515331       0.060729\n",
       "std      3459.273897    7329.480866       0.238834\n",
       "min         0.000000       0.000000       0.000000\n",
       "25%      3121.000000    6684.000000       0.000000\n",
       "50%      5592.000000   11500.000000       0.000000\n",
       "75%      9161.000000   17931.250000       0.000000\n",
       "max     11928.000000   27503.000000       1.000000"
      ]
     },
     "execution_count": 27,
     "metadata": {},
     "output_type": "execute_result"
    }
   ],
   "source": [
    "analysis_lineDf(test_line_df)"
   ]
  },
  {
   "cell_type": "code",
   "execution_count": 28,
   "metadata": {
    "ExecuteTime": {
     "end_time": "2021-01-26T12:59:40.628611Z",
     "start_time": "2021-01-26T12:59:40.417347Z"
    }
   },
   "outputs": [
    {
     "name": "stdout",
     "output_type": "stream",
     "text": [
      "qids = 11934, dids = 19047, total pairs = 86372, top50 pairs = 39178\n"
     ]
    },
    {
     "data": {
      "text/html": [
       "<div>\n",
       "<style scoped>\n",
       "    .dataframe tbody tr th:only-of-type {\n",
       "        vertical-align: middle;\n",
       "    }\n",
       "\n",
       "    .dataframe tbody tr th {\n",
       "        vertical-align: top;\n",
       "    }\n",
       "\n",
       "    .dataframe thead th {\n",
       "        text-align: right;\n",
       "    }\n",
       "</style>\n",
       "<table border=\"1\" class=\"dataframe\">\n",
       "  <thead>\n",
       "    <tr style=\"text-align: right;\">\n",
       "      <th></th>\n",
       "      <th>qidx</th>\n",
       "      <th>didx</th>\n",
       "      <th>label</th>\n",
       "    </tr>\n",
       "  </thead>\n",
       "  <tbody>\n",
       "    <tr>\n",
       "      <th>count</th>\n",
       "      <td>596700.000000</td>\n",
       "      <td>596700.000000</td>\n",
       "      <td>596700.000000</td>\n",
       "    </tr>\n",
       "    <tr>\n",
       "      <th>mean</th>\n",
       "      <td>5966.500000</td>\n",
       "      <td>12212.899948</td>\n",
       "      <td>0.065658</td>\n",
       "    </tr>\n",
       "    <tr>\n",
       "      <th>std</th>\n",
       "      <td>3445.051931</td>\n",
       "      <td>7281.607675</td>\n",
       "      <td>0.247683</td>\n",
       "    </tr>\n",
       "    <tr>\n",
       "      <th>min</th>\n",
       "      <td>0.000000</td>\n",
       "      <td>0.000000</td>\n",
       "      <td>0.000000</td>\n",
       "    </tr>\n",
       "    <tr>\n",
       "      <th>25%</th>\n",
       "      <td>2983.000000</td>\n",
       "      <td>6684.000000</td>\n",
       "      <td>0.000000</td>\n",
       "    </tr>\n",
       "    <tr>\n",
       "      <th>50%</th>\n",
       "      <td>5966.500000</td>\n",
       "      <td>11536.000000</td>\n",
       "      <td>0.000000</td>\n",
       "    </tr>\n",
       "    <tr>\n",
       "      <th>75%</th>\n",
       "      <td>8950.000000</td>\n",
       "      <td>17940.000000</td>\n",
       "      <td>0.000000</td>\n",
       "    </tr>\n",
       "    <tr>\n",
       "      <th>max</th>\n",
       "      <td>11933.000000</td>\n",
       "      <td>27504.000000</td>\n",
       "      <td>1.000000</td>\n",
       "    </tr>\n",
       "  </tbody>\n",
       "</table>\n",
       "</div>"
      ],
      "text/plain": [
       "                qidx           didx          label\n",
       "count  596700.000000  596700.000000  596700.000000\n",
       "mean     5966.500000   12212.899948       0.065658\n",
       "std      3445.051931    7281.607675       0.247683\n",
       "min         0.000000       0.000000       0.000000\n",
       "25%      2983.000000    6684.000000       0.000000\n",
       "50%      5966.500000   11536.000000       0.000000\n",
       "75%      8950.000000   17940.000000       0.000000\n",
       "max     11933.000000   27504.000000       1.000000"
      ]
     },
     "execution_count": 28,
     "metadata": {},
     "output_type": "execute_result"
    }
   ],
   "source": [
    "analysis_lineDf(pd.concat([train_line_df, val_line_df, test_line_df]))"
   ]
  },
  {
   "cell_type": "code",
   "execution_count": 29,
   "metadata": {
    "ExecuteTime": {
     "end_time": "2021-01-26T13:00:59.370680Z",
     "start_time": "2021-01-26T13:00:58.113447Z"
    }
   },
   "outputs": [],
   "source": [
    "train_line_df.to_csv('./data/data_splits_setting2/top50.train.line',\n",
    "                     index=None, header=None, sep='\\t')\n",
    "val_line_df.to_csv('./data/data_splits_setting2/top50.val.line',\n",
    "                   index=None, header=None, sep='\\t')\n",
    "test_line_df.to_csv('./data/data_splits_setting2/top50.test.line',\n",
    "                    index=None, header=None, sep='\\t')"
   ]
  },
  {
   "cell_type": "code",
   "execution_count": 30,
   "metadata": {
    "ExecuteTime": {
     "end_time": "2021-01-26T13:00:59.856114Z",
     "start_time": "2021-01-26T13:00:59.835843Z"
    }
   },
   "outputs": [
    {
     "data": {
      "text/html": [
       "<div>\n",
       "<style scoped>\n",
       "    .dataframe tbody tr th:only-of-type {\n",
       "        vertical-align: middle;\n",
       "    }\n",
       "\n",
       "    .dataframe tbody tr th {\n",
       "        vertical-align: top;\n",
       "    }\n",
       "\n",
       "    .dataframe thead th {\n",
       "        text-align: right;\n",
       "    }\n",
       "</style>\n",
       "<table border=\"1\" class=\"dataframe\">\n",
       "  <thead>\n",
       "    <tr style=\"text-align: right;\">\n",
       "      <th></th>\n",
       "      <th>qid</th>\n",
       "      <th>qidx</th>\n",
       "      <th>did</th>\n",
       "      <th>didx</th>\n",
       "      <th>label</th>\n",
       "    </tr>\n",
       "  </thead>\n",
       "  <tbody>\n",
       "    <tr>\n",
       "      <th>0</th>\n",
       "      <td>5f0ed06ada7c229f16a55c17</td>\n",
       "      <td>12</td>\n",
       "      <td>[5ff5e362c60dfb55fc52b972, 5ff967deefd97ff86d6...</td>\n",
       "      <td>[7061, 27006, 16677, 14492, 24503, 19881, 453,...</td>\n",
       "      <td>[0, 0, 0, 0, 0, 0, 0, 0, 0, 0, 0, 0, 0, 0, 0, ...</td>\n",
       "    </tr>\n",
       "    <tr>\n",
       "      <th>1</th>\n",
       "      <td>5f0ed06ada7c229f16a55c1d</td>\n",
       "      <td>18</td>\n",
       "      <td>[5ff57ff6c60dfb55fc52b944, 5f2ea72f8d1bbb4d114...</td>\n",
       "      <td>[1203, 20158, 14492, 27006, 18, 27261, 27339, ...</td>\n",
       "      <td>[0, 0, 0, 0, 0, 0, 0, 0, 0, 0, 0, 0, 0, 0, 0, ...</td>\n",
       "    </tr>\n",
       "    <tr>\n",
       "      <th>2</th>\n",
       "      <td>5f0ed06ada7c229f16a55c1c</td>\n",
       "      <td>24</td>\n",
       "      <td>[5f1172acb9cce3edf31425da, 5f1172acb9cce3edf31...</td>\n",
       "      <td>[9233, 11057, 14701, 9057, 9229, 20500, 1457, ...</td>\n",
       "      <td>[0, 0, 0, 0, 0, 0, 0, 0, 0, 0, 0, 0, 0, 0, 0, ...</td>\n",
       "    </tr>\n",
       "    <tr>\n",
       "      <th>3</th>\n",
       "      <td>5f0ed040da7c229f16a51432</td>\n",
       "      <td>51</td>\n",
       "      <td>[5f61d4bd11c8070a282e796e, 5f1172acb9cce3edf31...</td>\n",
       "      <td>[66, 11046, 11385, 26092, 10768, 68, 9571, 159...</td>\n",
       "      <td>[1, 0, 0, 0, 0, 1, 0, 0, 1, 0, 0, 0, 0, 0, 0, ...</td>\n",
       "    </tr>\n",
       "    <tr>\n",
       "      <th>4</th>\n",
       "      <td>5f0ed06ada7c229f16a55c1b</td>\n",
       "      <td>148</td>\n",
       "      <td>[5f0c71f1efe4e78f5b003534, 5f315f59aaa0d4d489f...</td>\n",
       "      <td>[190, 20500, 27261, 11388, 17329, 9648, 15047,...</td>\n",
       "      <td>[1, 0, 0, 0, 0, 0, 0, 0, 0, 0, 0, 0, 0, 0, 0, ...</td>\n",
       "    </tr>\n",
       "  </tbody>\n",
       "</table>\n",
       "</div>"
      ],
      "text/plain": [
       "                        qid  qidx  \\\n",
       "0  5f0ed06ada7c229f16a55c17    12   \n",
       "1  5f0ed06ada7c229f16a55c1d    18   \n",
       "2  5f0ed06ada7c229f16a55c1c    24   \n",
       "3  5f0ed040da7c229f16a51432    51   \n",
       "4  5f0ed06ada7c229f16a55c1b   148   \n",
       "\n",
       "                                                 did  \\\n",
       "0  [5ff5e362c60dfb55fc52b972, 5ff967deefd97ff86d6...   \n",
       "1  [5ff57ff6c60dfb55fc52b944, 5f2ea72f8d1bbb4d114...   \n",
       "2  [5f1172acb9cce3edf31425da, 5f1172acb9cce3edf31...   \n",
       "3  [5f61d4bd11c8070a282e796e, 5f1172acb9cce3edf31...   \n",
       "4  [5f0c71f1efe4e78f5b003534, 5f315f59aaa0d4d489f...   \n",
       "\n",
       "                                                didx  \\\n",
       "0  [7061, 27006, 16677, 14492, 24503, 19881, 453,...   \n",
       "1  [1203, 20158, 14492, 27006, 18, 27261, 27339, ...   \n",
       "2  [9233, 11057, 14701, 9057, 9229, 20500, 1457, ...   \n",
       "3  [66, 11046, 11385, 26092, 10768, 68, 9571, 159...   \n",
       "4  [190, 20500, 27261, 11388, 17329, 9648, 15047,...   \n",
       "\n",
       "                                               label  \n",
       "0  [0, 0, 0, 0, 0, 0, 0, 0, 0, 0, 0, 0, 0, 0, 0, ...  \n",
       "1  [0, 0, 0, 0, 0, 0, 0, 0, 0, 0, 0, 0, 0, 0, 0, ...  \n",
       "2  [0, 0, 0, 0, 0, 0, 0, 0, 0, 0, 0, 0, 0, 0, 0, ...  \n",
       "3  [1, 0, 0, 0, 0, 1, 0, 0, 1, 0, 0, 0, 0, 0, 0, ...  \n",
       "4  [1, 0, 0, 0, 0, 0, 0, 0, 0, 0, 0, 0, 0, 0, 0, ...  "
      ]
     },
     "execution_count": 30,
     "metadata": {},
     "output_type": "execute_result"
    }
   ],
   "source": [
    "val_df.head()"
   ]
  },
  {
   "cell_type": "code",
   "execution_count": 31,
   "metadata": {
    "ExecuteTime": {
     "end_time": "2021-01-26T13:01:01.362597Z",
     "start_time": "2021-01-26T13:01:01.339353Z"
    }
   },
   "outputs": [
    {
     "data": {
      "text/html": [
       "<div>\n",
       "<style scoped>\n",
       "    .dataframe tbody tr th:only-of-type {\n",
       "        vertical-align: middle;\n",
       "    }\n",
       "\n",
       "    .dataframe tbody tr th {\n",
       "        vertical-align: top;\n",
       "    }\n",
       "\n",
       "    .dataframe thead th {\n",
       "        text-align: right;\n",
       "    }\n",
       "</style>\n",
       "<table border=\"1\" class=\"dataframe\">\n",
       "  <thead>\n",
       "    <tr style=\"text-align: right;\">\n",
       "      <th></th>\n",
       "      <th>qid</th>\n",
       "      <th>qidx</th>\n",
       "      <th>did</th>\n",
       "      <th>didx</th>\n",
       "      <th>label</th>\n",
       "    </tr>\n",
       "  </thead>\n",
       "  <tbody>\n",
       "    <tr>\n",
       "      <th>0</th>\n",
       "      <td>5f0ed06ada7c229f16a54452</td>\n",
       "      <td>0</td>\n",
       "      <td>[6002d4fbbc9086321270c5dc, 5ff55038c60dfb55fc5...</td>\n",
       "      <td>[19, 21, 8931, 17396, 6883, 13539, 11103, 9365...</td>\n",
       "      <td>[1, 0, 0, 0, 0, 0, 0, 0, 0, 0, 0, 0, 0, 0, 0, ...</td>\n",
       "    </tr>\n",
       "    <tr>\n",
       "      <th>1</th>\n",
       "      <td>5f0ed06ada7c229f16a53f06</td>\n",
       "      <td>2</td>\n",
       "      <td>[5fe5acd511f159c49f84b012, 5fe5acd511f159c49f8...</td>\n",
       "      <td>[91, 29, 27, 25, 26, 24, 22, 17, 18, 3180, 543...</td>\n",
       "      <td>[1, 1, 1, 1, 1, 1, 0, 0, 0, 0, 0, 0, 0, 0, 0, ...</td>\n",
       "    </tr>\n",
       "    <tr>\n",
       "      <th>2</th>\n",
       "      <td>5f0ed06ada7c229f16a542cb</td>\n",
       "      <td>5</td>\n",
       "      <td>[5fef252111f159c49f84b0fa, 5fef26f911f159c49f8...</td>\n",
       "      <td>[31, 49, 37, 19315, 20021, 184, 9837, 3180, 11...</td>\n",
       "      <td>[1, 0, 1, 0, 0, 0, 0, 0, 0, 0, 0, 0, 0, 0, 0, ...</td>\n",
       "    </tr>\n",
       "    <tr>\n",
       "      <th>3</th>\n",
       "      <td>5f0ed06ada7c229f16a55040</td>\n",
       "      <td>15</td>\n",
       "      <td>[5f2ea72f8d1bbb4d1141aa43, 5f1172acb9cce3edf31...</td>\n",
       "      <td>[17301, 11733, 2923, 17956, 19748, 14283, 1801...</td>\n",
       "      <td>[0, 0, 0, 0, 0, 0, 0, 0, 0, 0, 0, 0, 0, 0, 0, ...</td>\n",
       "    </tr>\n",
       "    <tr>\n",
       "      <th>4</th>\n",
       "      <td>5f0ed040da7c229f16a524f2</td>\n",
       "      <td>30</td>\n",
       "      <td>[5f62cacffff4579430a77648, 5f1172acb9cce3edf31...</td>\n",
       "      <td>[64, 11139, 1257, 1245, 737, 1598, 8225, 440, ...</td>\n",
       "      <td>[1, 0, 0, 0, 0, 0, 0, 0, 0, 0, 0, 0, 0, 0, 0, ...</td>\n",
       "    </tr>\n",
       "  </tbody>\n",
       "</table>\n",
       "</div>"
      ],
      "text/plain": [
       "                        qid  qidx  \\\n",
       "0  5f0ed06ada7c229f16a54452     0   \n",
       "1  5f0ed06ada7c229f16a53f06     2   \n",
       "2  5f0ed06ada7c229f16a542cb     5   \n",
       "3  5f0ed06ada7c229f16a55040    15   \n",
       "4  5f0ed040da7c229f16a524f2    30   \n",
       "\n",
       "                                                 did  \\\n",
       "0  [6002d4fbbc9086321270c5dc, 5ff55038c60dfb55fc5...   \n",
       "1  [5fe5acd511f159c49f84b012, 5fe5acd511f159c49f8...   \n",
       "2  [5fef252111f159c49f84b0fa, 5fef26f911f159c49f8...   \n",
       "3  [5f2ea72f8d1bbb4d1141aa43, 5f1172acb9cce3edf31...   \n",
       "4  [5f62cacffff4579430a77648, 5f1172acb9cce3edf31...   \n",
       "\n",
       "                                                didx  \\\n",
       "0  [19, 21, 8931, 17396, 6883, 13539, 11103, 9365...   \n",
       "1  [91, 29, 27, 25, 26, 24, 22, 17, 18, 3180, 543...   \n",
       "2  [31, 49, 37, 19315, 20021, 184, 9837, 3180, 11...   \n",
       "3  [17301, 11733, 2923, 17956, 19748, 14283, 1801...   \n",
       "4  [64, 11139, 1257, 1245, 737, 1598, 8225, 440, ...   \n",
       "\n",
       "                                               label  \n",
       "0  [1, 0, 0, 0, 0, 0, 0, 0, 0, 0, 0, 0, 0, 0, 0, ...  \n",
       "1  [1, 1, 1, 1, 1, 1, 0, 0, 0, 0, 0, 0, 0, 0, 0, ...  \n",
       "2  [1, 0, 1, 0, 0, 0, 0, 0, 0, 0, 0, 0, 0, 0, 0, ...  \n",
       "3  [0, 0, 0, 0, 0, 0, 0, 0, 0, 0, 0, 0, 0, 0, 0, ...  \n",
       "4  [1, 0, 0, 0, 0, 0, 0, 0, 0, 0, 0, 0, 0, 0, 0, ...  "
      ]
     },
     "execution_count": 31,
     "metadata": {},
     "output_type": "execute_result"
    }
   ],
   "source": [
    "test_df.head()"
   ]
  },
  {
   "cell_type": "code",
   "execution_count": 32,
   "metadata": {
    "ExecuteTime": {
     "end_time": "2021-01-26T13:01:12.793571Z",
     "start_time": "2021-01-26T13:01:12.635513Z"
    }
   },
   "outputs": [],
   "source": [
    "val_df.to_csv('./data/data_splits_setting2/top50.val',\n",
    "              index=None, header=None, sep='\\t')\n",
    "test_df.to_csv('./data/data_splits_setting2/top50.test',\n",
    "               index=None, header=None, sep='\\t')"
   ]
  },
  {
   "cell_type": "code",
   "execution_count": null,
   "metadata": {},
   "outputs": [],
   "source": []
  },
  {
   "cell_type": "code",
   "execution_count": null,
   "metadata": {},
   "outputs": [],
   "source": []
  },
  {
   "cell_type": "code",
   "execution_count": null,
   "metadata": {},
   "outputs": [],
   "source": []
  },
  {
   "cell_type": "code",
   "execution_count": null,
   "metadata": {},
   "outputs": [],
   "source": []
  }
 ],
 "metadata": {
  "kernelspec": {
   "display_name": "Python 3",
   "language": "python",
   "name": "python3"
  },
  "language_info": {
   "codemirror_mode": {
    "name": "ipython",
    "version": 3
   },
   "file_extension": ".py",
   "mimetype": "text/x-python",
   "name": "python",
   "nbconvert_exporter": "python",
   "pygments_lexer": "ipython3",
   "version": "3.6.10"
  },
  "toc": {
   "base_numbering": 1,
   "nav_menu": {},
   "number_sections": true,
   "sideBar": true,
   "skip_h1_title": false,
   "title_cell": "Table of Contents",
   "title_sidebar": "Contents",
   "toc_cell": false,
   "toc_position": {
    "height": "calc(100% - 180px)",
    "left": "10px",
    "top": "150px",
    "width": "384px"
   },
   "toc_section_display": true,
   "toc_window_display": true
  }
 },
 "nbformat": 4,
 "nbformat_minor": 4
}
